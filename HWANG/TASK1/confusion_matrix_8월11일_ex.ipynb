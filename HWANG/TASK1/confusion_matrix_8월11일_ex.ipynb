{
 "cells": [
  {
   "cell_type": "markdown",
   "metadata": {},
   "source": [
    "# Confusion matrix 만들기"
   ]
  },
  {
   "cell_type": "code",
   "execution_count": 1,
   "metadata": {},
   "outputs": [],
   "source": [
    "import json\n",
    "import pandas as pd\n",
    "from pandas import json_normalize"
   ]
  },
  {
   "cell_type": "markdown",
   "metadata": {},
   "source": [
    "## ground truth.json 불러오기\n",
    "1. 파일을 읽어서 dataframe에 넣기\n",
    "2. gameTime, label만 추출\n",
    "3. gameTime에서 분:초를 제외한 데이터 삭제"
   ]
  },
  {
   "cell_type": "code",
   "execution_count": 2,
   "metadata": {},
   "outputs": [
    {
     "data": {
      "text/html": [
       "<div>\n",
       "<style scoped>\n",
       "    .dataframe tbody tr th:only-of-type {\n",
       "        vertical-align: middle;\n",
       "    }\n",
       "\n",
       "    .dataframe tbody tr th {\n",
       "        vertical-align: top;\n",
       "    }\n",
       "\n",
       "    .dataframe thead th {\n",
       "        text-align: right;\n",
       "    }\n",
       "</style>\n",
       "<table border=\"1\" class=\"dataframe\">\n",
       "  <thead>\n",
       "    <tr style=\"text-align: right;\">\n",
       "      <th></th>\n",
       "      <th>gameTime</th>\n",
       "      <th>label</th>\n",
       "    </tr>\n",
       "  </thead>\n",
       "  <tbody>\n",
       "    <tr>\n",
       "      <th>0</th>\n",
       "      <td>00:00</td>\n",
       "      <td>Other</td>\n",
       "    </tr>\n",
       "    <tr>\n",
       "      <th>1</th>\n",
       "      <td>00:14</td>\n",
       "      <td>Shots on target</td>\n",
       "    </tr>\n",
       "    <tr>\n",
       "      <th>2</th>\n",
       "      <td>00:15</td>\n",
       "      <td>Goal</td>\n",
       "    </tr>\n",
       "    <tr>\n",
       "      <th>3</th>\n",
       "      <td>00:26</td>\n",
       "      <td>Goal</td>\n",
       "    </tr>\n",
       "    <tr>\n",
       "      <th>4</th>\n",
       "      <td>02:49</td>\n",
       "      <td>Direct free-kick</td>\n",
       "    </tr>\n",
       "    <tr>\n",
       "      <th>...</th>\n",
       "      <td>...</td>\n",
       "      <td>...</td>\n",
       "    </tr>\n",
       "    <tr>\n",
       "      <th>338</th>\n",
       "      <td>116:36</td>\n",
       "      <td>Goal</td>\n",
       "    </tr>\n",
       "    <tr>\n",
       "      <th>339</th>\n",
       "      <td>116:42</td>\n",
       "      <td>Corner</td>\n",
       "    </tr>\n",
       "    <tr>\n",
       "      <th>340</th>\n",
       "      <td>116:46</td>\n",
       "      <td>Goal</td>\n",
       "    </tr>\n",
       "    <tr>\n",
       "      <th>341</th>\n",
       "      <td>116:50</td>\n",
       "      <td>Corner</td>\n",
       "    </tr>\n",
       "    <tr>\n",
       "      <th>342</th>\n",
       "      <td>116:52</td>\n",
       "      <td>Goal</td>\n",
       "    </tr>\n",
       "  </tbody>\n",
       "</table>\n",
       "<p>343 rows × 2 columns</p>\n",
       "</div>"
      ],
      "text/plain": [
       "    gameTime             label\n",
       "0      00:00             Other\n",
       "1      00:14   Shots on target\n",
       "2      00:15              Goal\n",
       "3      00:26              Goal\n",
       "4      02:49  Direct free-kick\n",
       "..       ...               ...\n",
       "338   116:36              Goal\n",
       "339   116:42            Corner\n",
       "340   116:46              Goal\n",
       "341   116:50            Corner\n",
       "342   116:52              Goal\n",
       "\n",
       "[343 rows x 2 columns]"
      ]
     },
     "execution_count": 2,
     "metadata": {},
     "output_type": "execute_result"
    }
   ],
   "source": [
    "with open(\"C:\\\\Users\\\\user\\\\Desktop\\\\Jupyter\\\\TASK1_Confusion_matrix\\\\input\\\\groun_truth.json\", \"r\", encoding=\"utf8\") as f:\n",
    "    contents = f.read() # string 타입\n",
    "    json_data = json.loads(contents)\n",
    "df_json_data_groun_truth = json_normalize(json_data['annotations']) # json파일 -> dataframe에 넣기\n",
    "df_json_data_groun_truth = df_json_data_groun_truth.loc[:, ['gameTime', 'label']] # 내가 원하는 데이터만 추출\n",
    "df_json_data_groun_truth['gameTime'] = df_json_data_groun_truth.gameTime.str.split(' - ').str[1]  # 1 - , 2 - 와 같은 데이터 삭제\n",
    "\n",
    "df_json_data_groun_truth # 출력"
   ]
  },
  {
   "cell_type": "markdown",
   "metadata": {},
   "source": [
    "## prediction.json 불러오기\n",
    "1. 파일을 읽어서 dataframe에 넣기\n",
    "2. gameTime, label만 추출\n",
    "3. gameTime에서 분:초 가 아닌 데이터 삭제\n",
    "4. 특정 threshold를 기준으로 데이터 줄이기\n",
    "5. gameTime에서 Min, Sec을 추출하여 정렬하기"
   ]
  },
  {
   "cell_type": "code",
   "execution_count": 3,
   "metadata": {},
   "outputs": [
    {
     "name": "stderr",
     "output_type": "stream",
     "text": [
      "C:\\Users\\user\\AppData\\Local\\Temp\\ipykernel_17600\\1304093163.py:22: SettingWithCopyWarning: \n",
      "A value is trying to be set on a copy of a slice from a DataFrame\n",
      "\n",
      "See the caveats in the documentation: https://pandas.pydata.org/pandas-docs/stable/user_guide/indexing.html#returning-a-view-versus-a-copy\n",
      "  df['MIN'][i] += 58\n",
      "C:\\Users\\user\\AppData\\Local\\Temp\\ipykernel_17600\\1304093163.py:23: SettingWithCopyWarning: \n",
      "A value is trying to be set on a copy of a slice from a DataFrame\n",
      "\n",
      "See the caveats in the documentation: https://pandas.pydata.org/pandas-docs/stable/user_guide/indexing.html#returning-a-view-versus-a-copy\n",
      "  df['SEC'][i] += 31\n"
     ]
    }
   ],
   "source": [
    "confidence_threshold = 0.5\n",
    "\n",
    "\n",
    "with open(\"C:\\\\Users\\\\user\\\\Desktop\\\\Jupyter\\\\TASK1_Confusion_matrix\\\\input\\\\prediction.json\", \"r\", encoding=\"utf8\") as f:\n",
    "    contents = f.read() # string 타입\n",
    "    json_data = json.loads(contents)\n",
    "df = json_normalize(json_data['predictions'])  # json파일 -> dataframe에 넣기\n",
    "df = df.loc[:, ['gameTime', 'label', 'confidence', 'half']]   # 내가 원하는 데이터만 추출\n",
    "df['gameTime'] = df.gameTime.str.split(' - ').str[1]  # 1 - , 2 - 와 같은 데이터 삭제\n",
    "df['confidence'] = df['confidence'].astype(float)     # 내가 원하는 퍼센트 이상만 받기 위해 float형으로 변환\n",
    "index_drop = df[df['confidence'] < confidence_threshold].index         # 특정 값 이하 삭제의 index 모으기\n",
    "df.drop(index_drop, inplace=True)                       # 해당 index 삭제\n",
    "\n",
    "df['MIN'] = df.gameTime.str.split(':').str[0]  # gameTime에서 분 추출\n",
    "df['MIN'] = pd.to_numeric(df['MIN'])\n",
    "df['SEC'] = df.gameTime.str.split(':').str[1]  # gameTime에서 초 추출\n",
    "df['SEC'] = pd.to_numeric(df['SEC'])\n",
    "\n",
    "# predict \"1 - \"의 분, 초가 58분 31초에서 끊겨서 \"2 - \"에는 해당 숫자만큼 더하여 진행\n",
    "for i in df.index :\n",
    "    if df['half'][i] == \"2\" :\n",
    "        df['MIN'][i] += 58\n",
    "        df['SEC'][i] += 31\n",
    "\n",
    "\n",
    "df_json_data_prediction = df.sort_values(by = ['MIN', 'SEC']) # gameTime을 기준으로 정렬\n",
    "# df_json_data_prediction # 출력"
   ]
  },
  {
   "cell_type": "markdown",
   "metadata": {},
   "source": [
    "### 실제 데이터를 사용하기 전에 빠른 확인을 위한 prediction.json 데이터 줄이기\n",
    "groun_truth.json은 input -> small_input으로 가져올 때 수정으로 삭제"
   ]
  },
  {
   "cell_type": "code",
   "execution_count": 4,
   "metadata": {},
   "outputs": [
    {
     "data": {
      "text/html": [
       "<div>\n",
       "<style scoped>\n",
       "    .dataframe tbody tr th:only-of-type {\n",
       "        vertical-align: middle;\n",
       "    }\n",
       "\n",
       "    .dataframe tbody tr th {\n",
       "        vertical-align: top;\n",
       "    }\n",
       "\n",
       "    .dataframe thead th {\n",
       "        text-align: right;\n",
       "    }\n",
       "</style>\n",
       "<table border=\"1\" class=\"dataframe\">\n",
       "  <thead>\n",
       "    <tr style=\"text-align: right;\">\n",
       "      <th></th>\n",
       "      <th>gameTime</th>\n",
       "      <th>label</th>\n",
       "      <th>confidence</th>\n",
       "      <th>half</th>\n",
       "      <th>MIN</th>\n",
       "      <th>SEC</th>\n",
       "    </tr>\n",
       "  </thead>\n",
       "  <tbody>\n",
       "    <tr>\n",
       "      <th>0</th>\n",
       "      <td>0:14</td>\n",
       "      <td>Corner</td>\n",
       "      <td>0.896660</td>\n",
       "      <td>1</td>\n",
       "      <td>0</td>\n",
       "      <td>14</td>\n",
       "    </tr>\n",
       "    <tr>\n",
       "      <th>1</th>\n",
       "      <td>0:16</td>\n",
       "      <td>Ball out of play</td>\n",
       "      <td>0.550042</td>\n",
       "      <td>1</td>\n",
       "      <td>0</td>\n",
       "      <td>16</td>\n",
       "    </tr>\n",
       "    <tr>\n",
       "      <th>2</th>\n",
       "      <td>0:31</td>\n",
       "      <td>Kick-off</td>\n",
       "      <td>0.757758</td>\n",
       "      <td>1</td>\n",
       "      <td>0</td>\n",
       "      <td>31</td>\n",
       "    </tr>\n",
       "    <tr>\n",
       "      <th>3</th>\n",
       "      <td>1:20</td>\n",
       "      <td>Substitution</td>\n",
       "      <td>0.551063</td>\n",
       "      <td>1</td>\n",
       "      <td>1</td>\n",
       "      <td>20</td>\n",
       "    </tr>\n",
       "    <tr>\n",
       "      <th>4</th>\n",
       "      <td>2:14</td>\n",
       "      <td>Substitution</td>\n",
       "      <td>0.514771</td>\n",
       "      <td>1</td>\n",
       "      <td>2</td>\n",
       "      <td>14</td>\n",
       "    </tr>\n",
       "    <tr>\n",
       "      <th>...</th>\n",
       "      <td>...</td>\n",
       "      <td>...</td>\n",
       "      <td>...</td>\n",
       "      <td>...</td>\n",
       "      <td>...</td>\n",
       "      <td>...</td>\n",
       "    </tr>\n",
       "    <tr>\n",
       "      <th>416</th>\n",
       "      <td>58:4</td>\n",
       "      <td>Corner</td>\n",
       "      <td>0.937923</td>\n",
       "      <td>2</td>\n",
       "      <td>116</td>\n",
       "      <td>35</td>\n",
       "    </tr>\n",
       "    <tr>\n",
       "      <th>417</th>\n",
       "      <td>58:5</td>\n",
       "      <td>Goal</td>\n",
       "      <td>0.880127</td>\n",
       "      <td>2</td>\n",
       "      <td>116</td>\n",
       "      <td>36</td>\n",
       "    </tr>\n",
       "    <tr>\n",
       "      <th>418</th>\n",
       "      <td>58:21</td>\n",
       "      <td>Goal</td>\n",
       "      <td>0.537783</td>\n",
       "      <td>2</td>\n",
       "      <td>116</td>\n",
       "      <td>52</td>\n",
       "    </tr>\n",
       "    <tr>\n",
       "      <th>419</th>\n",
       "      <td>58:32</td>\n",
       "      <td>Kick-off</td>\n",
       "      <td>0.940929</td>\n",
       "      <td>2</td>\n",
       "      <td>116</td>\n",
       "      <td>63</td>\n",
       "    </tr>\n",
       "    <tr>\n",
       "      <th>420</th>\n",
       "      <td>58:32</td>\n",
       "      <td>Substitution</td>\n",
       "      <td>0.642120</td>\n",
       "      <td>2</td>\n",
       "      <td>116</td>\n",
       "      <td>63</td>\n",
       "    </tr>\n",
       "  </tbody>\n",
       "</table>\n",
       "<p>421 rows × 6 columns</p>\n",
       "</div>"
      ],
      "text/plain": [
       "    gameTime             label  confidence half  MIN  SEC\n",
       "0       0:14            Corner    0.896660    1    0   14\n",
       "1       0:16  Ball out of play    0.550042    1    0   16\n",
       "2       0:31          Kick-off    0.757758    1    0   31\n",
       "3       1:20      Substitution    0.551063    1    1   20\n",
       "4       2:14      Substitution    0.514771    1    2   14\n",
       "..       ...               ...         ...  ...  ...  ...\n",
       "416     58:4            Corner    0.937923    2  116   35\n",
       "417     58:5              Goal    0.880127    2  116   36\n",
       "418    58:21              Goal    0.537783    2  116   52\n",
       "419    58:32          Kick-off    0.940929    2  116   63\n",
       "420    58:32      Substitution    0.642120    2  116   63\n",
       "\n",
       "[421 rows x 6 columns]"
      ]
     },
     "execution_count": 4,
     "metadata": {},
     "output_type": "execute_result"
    }
   ],
   "source": [
    "# MIN 행 중 20분 이상인게 있는지 확인하고 drop하며 input 크기 줄이기\n",
    "# index_drop = df_json_data_prediction[df_json_data_prediction['MIN'] > 19].index         # 특정 값 이하 삭제의 index 모으기\n",
    "# df_json_data_prediction.drop(index_drop, inplace=True)                                          # 해당 index 삭제\n",
    "\n",
    "df_json_data_prediction = df_json_data_prediction.reset_index(drop=True) # 인덱스 재설정\n",
    "df_json_data_prediction # 출력"
   ]
  },
  {
   "cell_type": "markdown",
   "metadata": {},
   "source": [
    "시간 비교를 위해 df_json_data_groun_truth, df_json_data_prediction의 Game time을 지우고 MIN * 60 + Second로 Time label 추가."
   ]
  },
  {
   "cell_type": "code",
   "execution_count": 5,
   "metadata": {},
   "outputs": [],
   "source": [
    "df_json_data_groun_truth['MIN'] = df_json_data_groun_truth.gameTime.str.split(':').str[0]  # gameTime에서 분 추출\n",
    "df_json_data_groun_truth['MIN'] = pd.to_numeric(df_json_data_groun_truth['MIN'])\n",
    "df_json_data_groun_truth['SEC'] = df_json_data_groun_truth.gameTime.str.split(':').str[1]  # gameTime에서 초 추출\n",
    "df_json_data_groun_truth['SEC'] = pd.to_numeric(df_json_data_groun_truth['SEC'])"
   ]
  },
  {
   "cell_type": "code",
   "execution_count": 6,
   "metadata": {},
   "outputs": [
    {
     "data": {
      "text/html": [
       "<div>\n",
       "<style scoped>\n",
       "    .dataframe tbody tr th:only-of-type {\n",
       "        vertical-align: middle;\n",
       "    }\n",
       "\n",
       "    .dataframe tbody tr th {\n",
       "        vertical-align: top;\n",
       "    }\n",
       "\n",
       "    .dataframe thead th {\n",
       "        text-align: right;\n",
       "    }\n",
       "</style>\n",
       "<table border=\"1\" class=\"dataframe\">\n",
       "  <thead>\n",
       "    <tr style=\"text-align: right;\">\n",
       "      <th></th>\n",
       "      <th>label</th>\n",
       "      <th>confidence</th>\n",
       "      <th>half</th>\n",
       "      <th>Time</th>\n",
       "    </tr>\n",
       "  </thead>\n",
       "  <tbody>\n",
       "    <tr>\n",
       "      <th>0</th>\n",
       "      <td>Corner</td>\n",
       "      <td>0.896660</td>\n",
       "      <td>1</td>\n",
       "      <td>14</td>\n",
       "    </tr>\n",
       "    <tr>\n",
       "      <th>1</th>\n",
       "      <td>Ball out of play</td>\n",
       "      <td>0.550042</td>\n",
       "      <td>1</td>\n",
       "      <td>16</td>\n",
       "    </tr>\n",
       "    <tr>\n",
       "      <th>2</th>\n",
       "      <td>Kick-off</td>\n",
       "      <td>0.757758</td>\n",
       "      <td>1</td>\n",
       "      <td>31</td>\n",
       "    </tr>\n",
       "    <tr>\n",
       "      <th>3</th>\n",
       "      <td>Substitution</td>\n",
       "      <td>0.551063</td>\n",
       "      <td>1</td>\n",
       "      <td>80</td>\n",
       "    </tr>\n",
       "    <tr>\n",
       "      <th>4</th>\n",
       "      <td>Substitution</td>\n",
       "      <td>0.514771</td>\n",
       "      <td>1</td>\n",
       "      <td>134</td>\n",
       "    </tr>\n",
       "    <tr>\n",
       "      <th>...</th>\n",
       "      <td>...</td>\n",
       "      <td>...</td>\n",
       "      <td>...</td>\n",
       "      <td>...</td>\n",
       "    </tr>\n",
       "    <tr>\n",
       "      <th>416</th>\n",
       "      <td>Corner</td>\n",
       "      <td>0.937923</td>\n",
       "      <td>2</td>\n",
       "      <td>6995</td>\n",
       "    </tr>\n",
       "    <tr>\n",
       "      <th>417</th>\n",
       "      <td>Goal</td>\n",
       "      <td>0.880127</td>\n",
       "      <td>2</td>\n",
       "      <td>6996</td>\n",
       "    </tr>\n",
       "    <tr>\n",
       "      <th>418</th>\n",
       "      <td>Goal</td>\n",
       "      <td>0.537783</td>\n",
       "      <td>2</td>\n",
       "      <td>7012</td>\n",
       "    </tr>\n",
       "    <tr>\n",
       "      <th>419</th>\n",
       "      <td>Kick-off</td>\n",
       "      <td>0.940929</td>\n",
       "      <td>2</td>\n",
       "      <td>7023</td>\n",
       "    </tr>\n",
       "    <tr>\n",
       "      <th>420</th>\n",
       "      <td>Substitution</td>\n",
       "      <td>0.642120</td>\n",
       "      <td>2</td>\n",
       "      <td>7023</td>\n",
       "    </tr>\n",
       "  </tbody>\n",
       "</table>\n",
       "<p>421 rows × 4 columns</p>\n",
       "</div>"
      ],
      "text/plain": [
       "                label  confidence half  Time\n",
       "0              Corner    0.896660    1    14\n",
       "1    Ball out of play    0.550042    1    16\n",
       "2            Kick-off    0.757758    1    31\n",
       "3        Substitution    0.551063    1    80\n",
       "4        Substitution    0.514771    1   134\n",
       "..                ...         ...  ...   ...\n",
       "416            Corner    0.937923    2  6995\n",
       "417              Goal    0.880127    2  6996\n",
       "418              Goal    0.537783    2  7012\n",
       "419          Kick-off    0.940929    2  7023\n",
       "420      Substitution    0.642120    2  7023\n",
       "\n",
       "[421 rows x 4 columns]"
      ]
     },
     "execution_count": 6,
     "metadata": {},
     "output_type": "execute_result"
    }
   ],
   "source": [
    "df_json_data_groun_truth['Time'] = df_json_data_groun_truth['MIN']*60 + df_json_data_groun_truth['SEC']\n",
    "df_json_data_groun_truth.drop(['gameTime', 'MIN', 'SEC'], axis=1, inplace=True)\n",
    "\n",
    "df_json_data_prediction['Time'] = df_json_data_prediction['MIN']*60 + df_json_data_prediction['SEC']\n",
    "df_json_data_prediction.drop(['gameTime', 'MIN', 'SEC'], axis=1, inplace=True)\n",
    "\n",
    "df_json_data_prediction"
   ]
  },
  {
   "cell_type": "markdown",
   "metadata": {},
   "source": [
    "## confusion matrix\n",
    "참고자료\n",
    "\n",
    "1. https://panython.tistory.com/20\n",
    "\n",
    "2. http://datascienceschool.net/03%20machine%20learning/09.04%20%EB%B6%84%EB%A5%98%20%EC%84%B1%EB%8A%A5%ED%8F%89%EA%B0%80.html"
   ]
  },
  {
   "cell_type": "code",
   "execution_count": 7,
   "metadata": {},
   "outputs": [],
   "source": [
    "# confusion matrix 사용을 위한 라이브러리\n",
    "from sklearn.metrics import confusion_matrix\n",
    "from mlxtend.plotting import plot_confusion_matrix\n",
    "import matplotlib\n",
    "\n",
    "import matplotlib.pyplot as plt\n",
    "import numpy as np"
   ]
  },
  {
   "cell_type": "markdown",
   "metadata": {},
   "source": [
    "#### Exercise\n",
    "\n",
    "http://rasbt.github.io/mlxtend/user_guide/plotting/plot_confusion_matrix/"
   ]
  },
  {
   "cell_type": "code",
   "execution_count": 8,
   "metadata": {},
   "outputs": [
    {
     "data": {
      "image/png": "[encoded data removed]",
      "text/plain": [
       "<Figure size 432x288 with 1 Axes>"
      ]
     },
     "metadata": {
      "needs_background": "light"
     },
     "output_type": "display_data"
    },
    {
     "data": {
      "image/png": "[encoded data removed]",
      "text/plain": [
       "<Figure size 432x288 with 1 Axes>"
      ]
     },
     "metadata": {
      "needs_background": "light"
     },
     "output_type": "display_data"
    }
   ],
   "source": [
    "class_dict = {0: 'airplane',\n",
    "              1: 'automobile',\n",
    "              2: 'bird',\n",
    "              3: 'cat',\n",
    "              4: 'deer',\n",
    "              5: 'dog',\n",
    "              6: 'frog'}\n",
    "\n",
    "cmat = np.array([[972, 0, 1, 1, 1, 1, 3],\n",
    "                 [0, 1123, 3, 1, 0, 1, 2],\n",
    "                 [2, 0, 1025, 0, 0, 0, 1],\n",
    "                 [0, 0, 0, 1005, 0, 2, 0],\n",
    "                 [0, 1, 1, 0, 967, 0, 4],\n",
    "                 [0, 0, 0, 6, 0, 881, 3],\n",
    "                 [2, 3, 0, 1, 3, 4, 941]])\n",
    "\n",
    "fig, ax = plot_confusion_matrix(\n",
    "    conf_mat=cmat,\n",
    "    class_names=class_dict.values(),\n",
    ")\n",
    "fig, ax = plot_confusion_matrix(\n",
    "    conf_mat=cmat,\n",
    "    class_names=class_dict.values(),\n",
    "    norm_colormap=matplotlib.colors.LogNorm()  \n",
    ")"
   ]
  },
  {
   "cell_type": "markdown",
   "metadata": {},
   "source": [
    "#### Counting\n",
    "    인풋 :1. df_json_data_groun_truth -> game_time, label이 있는 dataframe\n",
    "          2. df_json_data_prediction  -> game_time, label이 있는 dataframe\n",
    "          나머지 데이터는 여기부터 필요 X\n",
    "          \n",
    "    아웃풋 : cmat에 숫자를 추가한 것"
   ]
  },
  {
   "cell_type": "code",
   "execution_count": 9,
   "metadata": {},
   "outputs": [],
   "source": [
    "class_dict = {0 : 'Ball out of play',\n",
    "              1 : 'Throw-in',\n",
    "              2 : 'Foul',\n",
    "              3 : 'Indirect free-kick',\n",
    "              4 : 'Clearance',\n",
    "              5 : 'Shots on target',\n",
    "              6 : 'Shots off target',\n",
    "              7 : 'Corner',\n",
    "              8 : 'Substitution',\n",
    "              9 : 'Kick-off',\n",
    "              10 : 'Yellow card',\n",
    "              11 : 'Offside',\n",
    "              12 : 'Direct free-kick',\n",
    "              13 : 'Goal',\n",
    "              14 : 'Penalty',\n",
    "              15 : 'Red card',\n",
    "              16 : 'Start of game',\n",
    "              17 : 'End of game',\n",
    "              18 : 'Start of replay',\n",
    "              19 : 'End of replay',\n",
    "              20 : 'Yellow card -> red card',\n",
    "              21 : 'Other',\n",
    "              22 : 'NONE'}"
   ]
  },
  {
   "cell_type": "code",
   "execution_count": 10,
   "metadata": {
    "scrolled": true
   },
   "outputs": [
    {
     "name": "stdout",
     "output_type": "stream",
     "text": [
      "<class 'dict'>\n"
     ]
    }
   ],
   "source": [
    "# class_dict.reverse()\n",
    "class_dict = dict(map(reversed,class_dict.items()))\n",
    "print(type(class_dict))"
   ]
  },
  {
   "cell_type": "code",
   "execution_count": 11,
   "metadata": {},
   "outputs": [
    {
     "name": "stdout",
     "output_type": "stream",
     "text": [
      "23\n"
     ]
    }
   ],
   "source": [
    "class_dict\n",
    "print(len(class_dict))"
   ]
  },
  {
   "cell_type": "code",
   "execution_count": 12,
   "metadata": {},
   "outputs": [],
   "source": [
    "cmat = np.array([0]*len(class_dict)*len(class_dict)).reshape((len(class_dict), len(class_dict)))\n",
    "# cmat = np.array([[0, 0, 0, 0, 0, 0, 0, 0, 0, 0, 0, 0, 0, 0, 0, 0, 0, 0, 0, 0, 0, 0, 0],\n",
    "#                  [0, 0, 0, 0, 0, 0, 0, 0, 0, 0, 0, 0, 0, 0, 0, 0, 0, 0, 0, 0, 0, 0, 0],\n",
    "#                  [0, 0, 0, 0, 0, 0, 0, 0, 0, 0, 0, 0, 0, 0, 0, 0, 0, 0, 0, 0, 0, 0, 0],\n",
    "#                  [0, 0, 0, 0, 0, 0, 0, 0, 0, 0, 0, 0, 0, 0, 0, 0, 0, 0, 0, 0, 0, 0, 0],\n",
    "#                  [0, 0, 0, 0, 0, 0, 0, 0, 0, 0, 0, 0, 0, 0, 0, 0, 0, 0, 0, 0, 0, 0, 0],\n",
    "#                  [0, 0, 0, 0, 0, 0, 0, 0, 0, 0, 0, 0, 0, 0, 0, 0, 0, 0, 0, 0, 0, 0, 0],\n",
    "#                  [0, 0, 0, 0, 0, 0, 0, 0, 0, 0, 0, 0, 0, 0, 0, 0, 0, 0, 0, 0, 0, 0, 0],\n",
    "#                  [0, 0, 0, 0, 0, 0, 0, 0, 0, 0, 0, 0, 0, 0, 0, 0, 0, 0, 0, 0, 0, 0, 0],\n",
    "#                  [0, 0, 0, 0, 0, 0, 0, 0, 0, 0, 0, 0, 0, 0, 0, 0, 0, 0, 0, 0, 0, 0, 0],\n",
    "#                  [0, 0, 0, 0, 0, 0, 0, 0, 0, 0, 0, 0, 0, 0, 0, 0, 0, 0, 0, 0, 0, 0, 0],\n",
    "#                  [0, 0, 0, 0, 0, 0, 0, 0, 0, 0, 0, 0, 0, 0, 0, 0, 0, 0, 0, 0, 0, 0, 0],\n",
    "#                  [0, 0, 0, 0, 0, 0, 0, 0, 0, 0, 0, 0, 0, 0, 0, 0, 0, 0, 0, 0, 0, 0, 0],\n",
    "#                  [0, 0, 0, 0, 0, 0, 0, 0, 0, 0, 0, 0, 0, 0, 0, 0, 0, 0, 0, 0, 0, 0, 0],\n",
    "#                  [0, 0, 0, 0, 0, 0, 0, 0, 0, 0, 0, 0, 0, 0, 0, 0, 0, 0, 0, 0, 0, 0, 0],\n",
    "#                  [0, 0, 0, 0, 0, 0, 0, 0, 0, 0, 0, 0, 0, 0, 0, 0, 0, 0, 0, 0, 0, 0, 0],\n",
    "#                  [0, 0, 0, 0, 0, 0, 0, 0, 0, 0, 0, 0, 0, 0, 0, 0, 0, 0, 0, 0, 0, 0, 0],\n",
    "#                  [0, 0, 0, 0, 0, 0, 0, 0, 0, 0, 0, 0, 0, 0, 0, 0, 0, 0, 0, 0, 0, 0, 0],\n",
    "#                  [0, 0, 0, 0, 0, 0, 0, 0, 0, 0, 0, 0, 0, 0, 0, 0, 0, 0, 0, 0, 0, 0, 0],\n",
    "#                  [0, 0, 0, 0, 0, 0, 0, 0, 0, 0, 0, 0, 0, 0, 0, 0, 0, 0, 0, 0, 0, 0, 0],\n",
    "#                  [0, 0, 0, 0, 0, 0, 0, 0, 0, 0, 0, 0, 0, 0, 0, 0, 0, 0, 0, 0, 0, 0, 0],\n",
    "#                  [0, 0, 0, 0, 0, 0, 0, 0, 0, 0, 0, 0, 0, 0, 0, 0, 0, 0, 0, 0, 0, 0, 0],\n",
    "#                  [0, 0, 0, 0, 0, 0, 0, 0, 0, 0, 0, 0, 0, 0, 0, 0, 0, 0, 0, 0, 0, 0, 0],\n",
    "#                  [0, 0, 0, 0, 0, 0, 0, 0, 0, 0, 0, 0, 0, 0, 0, 0, 0, 0, 0, 0, 0, 0, 0]])"
   ]
  },
  {
   "cell_type": "markdown",
   "metadata": {},
   "source": [
    "1. GT를 for문으로 지나면서 가장 가까운 predict을 찾기\n",
    "2. 둘을 삭제하면서 cmat에 +1\n",
    "    - 만약 초를 지났을 때 까지 없다면 pass\n",
    "3. 남은 predict(or GT)를 NONE과 매치하면서 +1"
   ]
  },
  {
   "cell_type": "code",
   "execution_count": 13,
   "metadata": {},
   "outputs": [],
   "source": [
    " df_json_data_prediction.reset_index(drop=True, inplace = True) # 인덱스 재설정"
   ]
  },
  {
   "cell_type": "code",
   "execution_count": 14,
   "metadata": {
    "scrolled": false
   },
   "outputs": [
    {
     "data": {
      "text/html": [
       "<div>\n",
       "<style scoped>\n",
       "    .dataframe tbody tr th:only-of-type {\n",
       "        vertical-align: middle;\n",
       "    }\n",
       "\n",
       "    .dataframe tbody tr th {\n",
       "        vertical-align: top;\n",
       "    }\n",
       "\n",
       "    .dataframe thead th {\n",
       "        text-align: right;\n",
       "    }\n",
       "</style>\n",
       "<table border=\"1\" class=\"dataframe\">\n",
       "  <thead>\n",
       "    <tr style=\"text-align: right;\">\n",
       "      <th></th>\n",
       "      <th>label</th>\n",
       "      <th>confidence</th>\n",
       "      <th>half</th>\n",
       "      <th>Time</th>\n",
       "    </tr>\n",
       "  </thead>\n",
       "  <tbody>\n",
       "    <tr>\n",
       "      <th>0</th>\n",
       "      <td>Corner</td>\n",
       "      <td>0.896660</td>\n",
       "      <td>1</td>\n",
       "      <td>14</td>\n",
       "    </tr>\n",
       "    <tr>\n",
       "      <th>1</th>\n",
       "      <td>Ball out of play</td>\n",
       "      <td>0.550042</td>\n",
       "      <td>1</td>\n",
       "      <td>16</td>\n",
       "    </tr>\n",
       "    <tr>\n",
       "      <th>2</th>\n",
       "      <td>Kick-off</td>\n",
       "      <td>0.757758</td>\n",
       "      <td>1</td>\n",
       "      <td>31</td>\n",
       "    </tr>\n",
       "    <tr>\n",
       "      <th>3</th>\n",
       "      <td>Substitution</td>\n",
       "      <td>0.551063</td>\n",
       "      <td>1</td>\n",
       "      <td>80</td>\n",
       "    </tr>\n",
       "    <tr>\n",
       "      <th>4</th>\n",
       "      <td>Substitution</td>\n",
       "      <td>0.514771</td>\n",
       "      <td>1</td>\n",
       "      <td>134</td>\n",
       "    </tr>\n",
       "    <tr>\n",
       "      <th>...</th>\n",
       "      <td>...</td>\n",
       "      <td>...</td>\n",
       "      <td>...</td>\n",
       "      <td>...</td>\n",
       "    </tr>\n",
       "    <tr>\n",
       "      <th>416</th>\n",
       "      <td>Corner</td>\n",
       "      <td>0.937923</td>\n",
       "      <td>2</td>\n",
       "      <td>6995</td>\n",
       "    </tr>\n",
       "    <tr>\n",
       "      <th>417</th>\n",
       "      <td>Goal</td>\n",
       "      <td>0.880127</td>\n",
       "      <td>2</td>\n",
       "      <td>6996</td>\n",
       "    </tr>\n",
       "    <tr>\n",
       "      <th>418</th>\n",
       "      <td>Goal</td>\n",
       "      <td>0.537783</td>\n",
       "      <td>2</td>\n",
       "      <td>7012</td>\n",
       "    </tr>\n",
       "    <tr>\n",
       "      <th>419</th>\n",
       "      <td>Kick-off</td>\n",
       "      <td>0.940929</td>\n",
       "      <td>2</td>\n",
       "      <td>7023</td>\n",
       "    </tr>\n",
       "    <tr>\n",
       "      <th>420</th>\n",
       "      <td>Substitution</td>\n",
       "      <td>0.642120</td>\n",
       "      <td>2</td>\n",
       "      <td>7023</td>\n",
       "    </tr>\n",
       "  </tbody>\n",
       "</table>\n",
       "<p>421 rows × 4 columns</p>\n",
       "</div>"
      ],
      "text/plain": [
       "                label  confidence half  Time\n",
       "0              Corner    0.896660    1    14\n",
       "1    Ball out of play    0.550042    1    16\n",
       "2            Kick-off    0.757758    1    31\n",
       "3        Substitution    0.551063    1    80\n",
       "4        Substitution    0.514771    1   134\n",
       "..                ...         ...  ...   ...\n",
       "416            Corner    0.937923    2  6995\n",
       "417              Goal    0.880127    2  6996\n",
       "418              Goal    0.537783    2  7012\n",
       "419          Kick-off    0.940929    2  7023\n",
       "420      Substitution    0.642120    2  7023\n",
       "\n",
       "[421 rows x 4 columns]"
      ]
     },
     "execution_count": 14,
     "metadata": {},
     "output_type": "execute_result"
    }
   ],
   "source": [
    "df_json_data_prediction"
   ]
  },
  {
   "cell_type": "code",
   "execution_count": 15,
   "metadata": {
    "scrolled": true
   },
   "outputs": [],
   "source": [
    "time_interval_threshole = 5\n",
    "\n",
    "for i in df_json_data_groun_truth.index:\n",
    "    min_time_diff = df_json_data_groun_truth[\"Time\"][i] - df_json_data_prediction[\"Time\"][0]\n",
    "    index = 0\n",
    "    SUM = True\n",
    "    for j in df_json_data_prediction.index:\n",
    "        temp = df_json_data_groun_truth[\"Time\"][i] - df_json_data_prediction[\"Time\"][j]\n",
    "        if temp > time_interval_threshole :\n",
    "            continue\n",
    "            \n",
    "        elif temp < -1 * time_interval_threshole :\n",
    "            break\n",
    "            \n",
    "        else :\n",
    "            if df_json_data_groun_truth[\"label\"][i]== df_json_data_prediction[\"label\"][j] :\n",
    "                SUM = True\n",
    "                index = j\n",
    "                break\n",
    "            else :\n",
    "                if abs(min_time_diff) >= abs(temp):\n",
    "                    SUM = True\n",
    "                    index = j\n",
    "            \n",
    "    if SUM :\n",
    "        x = class_dict.get(df_json_data_groun_truth[\"label\"][i])\n",
    "        y = class_dict.get(df_json_data_prediction[\"label\"][index])\n",
    "\n",
    "        cmat[x,y] += 1\n",
    "        df_json_data_prediction.drop(index, inplace=True)\n",
    "        df_json_data_prediction = df_json_data_prediction.reset_index(drop=True) # 인덱스 재설정\n",
    "\n",
    "    else :\n",
    "        x = class_dict.get(df_json_data_groun_truth[\"label\"][i])\n",
    "        cmat[x, 22] += 1\n"
   ]
  },
  {
   "cell_type": "code",
   "execution_count": 16,
   "metadata": {
    "scrolled": false
   },
   "outputs": [
    {
     "name": "stdout",
     "output_type": "stream",
     "text": [
      "[[35  2  0  0  5  4  0  0  4 21  0  0  1  5  0  0  0  0  0  0  0  0  0]\n",
      " [ 9  7  0  0  3  1  0  2  2 18  0  0  0  0  0  0  0  0  0  0  0  0  0]\n",
      " [ 8  0  0  0  1  0  0  1  1  8  1  0  0  2  0  0  0  0  0  0  0  0  0]\n",
      " [ 1  0  0  0  2  1  0  3  1 11  0  0  0  1  0  0  0  0  0  0  0  0  0]\n",
      " [ 3  0  0  0  2  1  0  0  1  8  0  0  0  0  0  0  0  0  0  0  0  0  0]\n",
      " [ 1  0  0  0  0  0  0  0  0  0  0  0  0  0  0  0  0  0  0  0  0  0  0]\n",
      " [ 0  0  0  0  0  0  0  0  0  0  0  0  0  0  0  0  0  0  0  0  0  0  0]\n",
      " [ 0  1  0  0  0  0  0  9  0  1  0  0  0  1  0  0  0  0  0  0  0  0  0]\n",
      " [ 0  0  0  0  1  0  0  0  1  6  0  0  0  1  0  0  0  0  0  0  0  0  0]\n",
      " [ 1  0  0  0  0  0  0  0  0  3  0  0  0  0  0  0  0  0  0  0  0  0  0]\n",
      " [ 1  0  0  0  0  0  0  0  2  0  0  0  0  0  0  0  0  0  0  0  0  0  0]\n",
      " [ 1  0  0  0  1  1  0  0  0  3  0  0  0  0  0  0  0  0  0  0  0  0  0]\n",
      " [ 0  0  0  0  0  0  0  0  1  0  0  0  0  1  0  0  0  0  0  0  0  0  0]\n",
      " [ 2  0  0  0  0  0  0  1 13 18  0  0  0  4  0  0  0  0  0  0  0  0  0]\n",
      " [ 0  0  0  0  0  0  0  0  0  0  0  0  0  0  0  0  0  0  0  0  0  0  0]\n",
      " [ 0  0  0  0  0  0  0  0  0  0  0  0  0  0  0  0  0  0  0  0  0  0  0]\n",
      " [ 0  0  0  0  0  0  0  0  0  2  0  0  0  0  0  0  0  0  0  0  0  0  0]\n",
      " [ 0  0  0  0  1  0  0  0  0  1  0  0  0  0  0  0  0  0  0  0  0  0  0]\n",
      " [ 4  1  0  0  4  1  0  2  8 22  0  0  0  2  0  0  0  0  0  0  0  0  0]\n",
      " [ 4  0  0  0  4  0  0  1  5 27  0  0  0  2  0  0  0  0  0  0  0  0  0]\n",
      " [ 0  0  0  0  0  0  0  0  0  0  0  0  0  0  0  0  0  0  0  0  0  0  0]\n",
      " [ 0  0  0  0  0  0  0  1  0  0  0  0  0  0  0  0  0  0  0  0  0  0  0]\n",
      " [ 0  0  0  0  0  0  0  0  0  0  0  0  0  0  0  0  0  0  0  0  0  0  0]]\n"
     ]
    }
   ],
   "source": [
    "print(cmat)"
   ]
  },
  {
   "cell_type": "code",
   "execution_count": 17,
   "metadata": {},
   "outputs": [
    {
     "name": "stderr",
     "output_type": "stream",
     "text": [
      "C:\\Users\\user\\AppData\\Roaming\\Python\\Python39\\site-packages\\mlxtend\\plotting\\plot_confusion_matrix.py:102: RuntimeWarning: invalid value encountered in true_divide\n",
      "  normed_conf_mat = conf_mat.astype(\"float\") / total_samples\n"
     ]
    },
    {
     "data": {
      "image/png": "[encoded data removed]",
      "text/plain": [
       "<Figure size 720x720 with 1 Axes>"
      ]
     },
     "metadata": {
      "needs_background": "light"
     },
     "output_type": "display_data"
    }
   ],
   "source": [
    "fig, ax = plot_confusion_matrix(\n",
    "    conf_mat=cmat, figsize = (10, 10),\n",
    "    class_names=class_dict.keys(),\n",
    "    norm_colormap=matplotlib.colors.LogNorm()  \n",
    ")"
   ]
  },
  {
   "cell_type": "markdown",
   "metadata": {},
   "source": [
    "## Precision, recall 구하기\n",
    "\n",
    "### 간단환 코드로 구현하고, 대입"
   ]
  },
  {
   "cell_type": "markdown",
   "metadata": {},
   "source": [
    "## label 별 FP, FN , ... 구하기"
   ]
  },
  {
   "cell_type": "code",
   "execution_count": 18,
   "metadata": {},
   "outputs": [
    {
     "data": {
      "image/png": "[encoded data removed]",
      "text/plain": [
       "<Figure size 432x288 with 1 Axes>"
      ]
     },
     "metadata": {
      "needs_background": "light"
     },
     "output_type": "display_data"
    }
   ],
   "source": [
    "temp_class_dict = {0: 'airplane',\n",
    "              1: 'automobile',\n",
    "              2: 'bird',\n",
    "              3: 'cat',\n",
    "              4: 'deer',\n",
    "              5: 'dog',\n",
    "              6: 'frog'}\n",
    "\n",
    "temp_cmat = np.array([[972, 0, 1, 1, 1, 1, 3],\n",
    "                 [0, 1123, 3, 1, 0, 1, 2],\n",
    "                 [2, 0, 1025, 0, 0, 0, 1],\n",
    "                 [0, 0, 0, 1005, 0, 2, 0],\n",
    "                 [0, 1, 1, 0, 967, 0, 4],\n",
    "                 [0, 0, 0, 6, 0, 881, 3],\n",
    "                 [2, 3, 0, 1, 3, 4, 941]])\n",
    "\n",
    "fig, ax = plot_confusion_matrix(\n",
    "    conf_mat=temp_cmat,\n",
    "    class_names=temp_class_dict.values(),\n",
    ")"
   ]
  },
  {
   "cell_type": "code",
   "execution_count": 19,
   "metadata": {},
   "outputs": [
    {
     "name": "stdout",
     "output_type": "stream",
     "text": [
      "6961\n"
     ]
    }
   ],
   "source": [
    "sum_total = np.sum(temp_cmat)\n",
    "print(sum_total)"
   ]
  },
  {
   "cell_type": "code",
   "execution_count": 20,
   "metadata": {},
   "outputs": [],
   "source": [
    "columns = [\"TP\", \"FN\", \"FP\", \"TN\"]\n",
    "lable_score = pd.DataFrame(columns=columns)"
   ]
  },
  {
   "cell_type": "code",
   "execution_count": 21,
   "metadata": {},
   "outputs": [
    {
     "data": {
      "text/plain": [
       "['TP', 'FN', 'FP', 'TN']"
      ]
     },
     "execution_count": 21,
     "metadata": {},
     "output_type": "execute_result"
    }
   ],
   "source": [
    "columns"
   ]
  },
  {
   "cell_type": "code",
   "execution_count": 22,
   "metadata": {},
   "outputs": [],
   "source": [
    "sum_column = np.array(temp_cmat.sum(axis=0))\n",
    "\n",
    "\n",
    "for idx in range(0, len(temp_class_dict)):\n",
    "    TP = 0\n",
    "    FN = 0\n",
    "    \n",
    "    for idx_x, value_x in enumerate(temp_cmat[idx]):\n",
    "        if idx_x == idx :\n",
    "            TP = value_x\n",
    "        else:\n",
    "            FN += value_x\n",
    "\n",
    "    FP = sum_column[idx] - TP\n",
    "    TN = sum_total - TP - FN - FP\n",
    "    lable_score.loc[idx] = [TP, FN, FP, TN]\n",
    "    \n",
    "# dataFrame 완성"
   ]
  },
  {
   "cell_type": "code",
   "execution_count": 23,
   "metadata": {},
   "outputs": [
    {
     "data": {
      "text/html": [
       "<div>\n",
       "<style scoped>\n",
       "    .dataframe tbody tr th:only-of-type {\n",
       "        vertical-align: middle;\n",
       "    }\n",
       "\n",
       "    .dataframe tbody tr th {\n",
       "        vertical-align: top;\n",
       "    }\n",
       "\n",
       "    .dataframe thead th {\n",
       "        text-align: right;\n",
       "    }\n",
       "</style>\n",
       "<table border=\"1\" class=\"dataframe\">\n",
       "  <thead>\n",
       "    <tr style=\"text-align: right;\">\n",
       "      <th></th>\n",
       "      <th>TP</th>\n",
       "      <th>FN</th>\n",
       "      <th>FP</th>\n",
       "      <th>TN</th>\n",
       "    </tr>\n",
       "  </thead>\n",
       "  <tbody>\n",
       "    <tr>\n",
       "      <th>0</th>\n",
       "      <td>972</td>\n",
       "      <td>7</td>\n",
       "      <td>4</td>\n",
       "      <td>5978</td>\n",
       "    </tr>\n",
       "    <tr>\n",
       "      <th>1</th>\n",
       "      <td>1123</td>\n",
       "      <td>7</td>\n",
       "      <td>4</td>\n",
       "      <td>5827</td>\n",
       "    </tr>\n",
       "    <tr>\n",
       "      <th>2</th>\n",
       "      <td>1025</td>\n",
       "      <td>3</td>\n",
       "      <td>5</td>\n",
       "      <td>5928</td>\n",
       "    </tr>\n",
       "    <tr>\n",
       "      <th>3</th>\n",
       "      <td>1005</td>\n",
       "      <td>2</td>\n",
       "      <td>9</td>\n",
       "      <td>5945</td>\n",
       "    </tr>\n",
       "    <tr>\n",
       "      <th>4</th>\n",
       "      <td>967</td>\n",
       "      <td>6</td>\n",
       "      <td>4</td>\n",
       "      <td>5984</td>\n",
       "    </tr>\n",
       "    <tr>\n",
       "      <th>5</th>\n",
       "      <td>881</td>\n",
       "      <td>9</td>\n",
       "      <td>8</td>\n",
       "      <td>6063</td>\n",
       "    </tr>\n",
       "    <tr>\n",
       "      <th>6</th>\n",
       "      <td>941</td>\n",
       "      <td>13</td>\n",
       "      <td>13</td>\n",
       "      <td>5994</td>\n",
       "    </tr>\n",
       "  </tbody>\n",
       "</table>\n",
       "</div>"
      ],
      "text/plain": [
       "     TP  FN  FP    TN\n",
       "0   972   7   4  5978\n",
       "1  1123   7   4  5827\n",
       "2  1025   3   5  5928\n",
       "3  1005   2   9  5945\n",
       "4   967   6   4  5984\n",
       "5   881   9   8  6063\n",
       "6   941  13  13  5994"
      ]
     },
     "execution_count": 23,
     "metadata": {},
     "output_type": "execute_result"
    }
   ],
   "source": [
    "lable_score"
   ]
  },
  {
   "cell_type": "markdown",
   "metadata": {},
   "source": [
    "## precision, recall 계산"
   ]
  },
  {
   "cell_type": "code",
   "execution_count": 24,
   "metadata": {},
   "outputs": [],
   "source": [
    "lable_score[\"Precision\"] = lable_score[\"TP\"] / (lable_score[\"FP\"] + lable_score[\"TP\"])\n",
    "lable_score[\"Recall\"] = lable_score[\"TP\"] / (lable_score[\"FN\"] + lable_score[\"TP\"])"
   ]
  },
  {
   "cell_type": "code",
   "execution_count": 25,
   "metadata": {},
   "outputs": [
    {
     "data": {
      "text/html": [
       "<div>\n",
       "<style scoped>\n",
       "    .dataframe tbody tr th:only-of-type {\n",
       "        vertical-align: middle;\n",
       "    }\n",
       "\n",
       "    .dataframe tbody tr th {\n",
       "        vertical-align: top;\n",
       "    }\n",
       "\n",
       "    .dataframe thead th {\n",
       "        text-align: right;\n",
       "    }\n",
       "</style>\n",
       "<table border=\"1\" class=\"dataframe\">\n",
       "  <thead>\n",
       "    <tr style=\"text-align: right;\">\n",
       "      <th></th>\n",
       "      <th>TP</th>\n",
       "      <th>FN</th>\n",
       "      <th>FP</th>\n",
       "      <th>TN</th>\n",
       "      <th>Precision</th>\n",
       "      <th>Recall</th>\n",
       "    </tr>\n",
       "  </thead>\n",
       "  <tbody>\n",
       "    <tr>\n",
       "      <th>0</th>\n",
       "      <td>972</td>\n",
       "      <td>7</td>\n",
       "      <td>4</td>\n",
       "      <td>5978</td>\n",
       "      <td>0.995902</td>\n",
       "      <td>0.992850</td>\n",
       "    </tr>\n",
       "    <tr>\n",
       "      <th>1</th>\n",
       "      <td>1123</td>\n",
       "      <td>7</td>\n",
       "      <td>4</td>\n",
       "      <td>5827</td>\n",
       "      <td>0.996451</td>\n",
       "      <td>0.993805</td>\n",
       "    </tr>\n",
       "    <tr>\n",
       "      <th>2</th>\n",
       "      <td>1025</td>\n",
       "      <td>3</td>\n",
       "      <td>5</td>\n",
       "      <td>5928</td>\n",
       "      <td>0.995146</td>\n",
       "      <td>0.997082</td>\n",
       "    </tr>\n",
       "    <tr>\n",
       "      <th>3</th>\n",
       "      <td>1005</td>\n",
       "      <td>2</td>\n",
       "      <td>9</td>\n",
       "      <td>5945</td>\n",
       "      <td>0.991124</td>\n",
       "      <td>0.998014</td>\n",
       "    </tr>\n",
       "    <tr>\n",
       "      <th>4</th>\n",
       "      <td>967</td>\n",
       "      <td>6</td>\n",
       "      <td>4</td>\n",
       "      <td>5984</td>\n",
       "      <td>0.995881</td>\n",
       "      <td>0.993834</td>\n",
       "    </tr>\n",
       "    <tr>\n",
       "      <th>5</th>\n",
       "      <td>881</td>\n",
       "      <td>9</td>\n",
       "      <td>8</td>\n",
       "      <td>6063</td>\n",
       "      <td>0.991001</td>\n",
       "      <td>0.989888</td>\n",
       "    </tr>\n",
       "    <tr>\n",
       "      <th>6</th>\n",
       "      <td>941</td>\n",
       "      <td>13</td>\n",
       "      <td>13</td>\n",
       "      <td>5994</td>\n",
       "      <td>0.986373</td>\n",
       "      <td>0.986373</td>\n",
       "    </tr>\n",
       "  </tbody>\n",
       "</table>\n",
       "</div>"
      ],
      "text/plain": [
       "     TP  FN  FP    TN  Precision    Recall\n",
       "0   972   7   4  5978   0.995902  0.992850\n",
       "1  1123   7   4  5827   0.996451  0.993805\n",
       "2  1025   3   5  5928   0.995146  0.997082\n",
       "3  1005   2   9  5945   0.991124  0.998014\n",
       "4   967   6   4  5984   0.995881  0.993834\n",
       "5   881   9   8  6063   0.991001  0.989888\n",
       "6   941  13  13  5994   0.986373  0.986373"
      ]
     },
     "execution_count": 25,
     "metadata": {},
     "output_type": "execute_result"
    }
   ],
   "source": [
    "lable_score"
   ]
  },
  {
   "cell_type": "markdown",
   "metadata": {},
   "source": [
    "## label 별 시각화\n",
    "1. confusion matrix 시각화"
   ]
  },
  {
   "cell_type": "code",
   "execution_count": 26,
   "metadata": {},
   "outputs": [],
   "source": [
    "# for i in lable_score.index:"
   ]
  }
 ],
 "metadata": {
  "kernelspec": {
   "display_name": "Python 3 (ipykernel)",
   "language": "python",
   "name": "python3"
  },
  "language_info": {
   "codemirror_mode": {
    "name": "ipython",
    "version": 3
   },
   "file_extension": ".py",
   "mimetype": "text/x-python",
   "name": "python",
   "nbconvert_exporter": "python",
   "pygments_lexer": "ipython3",
   "version": "3.9.12"
  },
  "vscode": {
   "interpreter": {
    "hash": "82ed002fa2d4956f5c6aec99bcefe0f73a9f79882f3c9e2319b14958a5896ac5"
   }
  }
 },
 "nbformat": 4,
 "nbformat_minor": 2
}
