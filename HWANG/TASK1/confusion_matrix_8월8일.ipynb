{
 "cells": [
  {
   "cell_type": "markdown",
   "metadata": {},
   "source": [
    "# Confusion matrix 만들기"
   ]
  },
  {
   "cell_type": "code",
   "execution_count": 1,
   "metadata": {},
   "outputs": [],
   "source": [
    "import json\n",
    "import pandas as pd\n",
    "from pandas import json_normalize"
   ]
  },
  {
   "cell_type": "markdown",
   "metadata": {},
   "source": [
    "## ground truth.json 불러오기\n",
    "1. 파일을 읽어서 dataframe에 넣기\n",
    "2. gameTime, label만 추출\n",
    "3. gameTime에서 분:초를 제외한 데이터 삭제"
   ]
  },
  {
   "cell_type": "code",
   "execution_count": 2,
   "metadata": {},
   "outputs": [
    {
     "data": {
      "text/html": [
       "<div>\n",
       "<style scoped>\n",
       "    .dataframe tbody tr th:only-of-type {\n",
       "        vertical-align: middle;\n",
       "    }\n",
       "\n",
       "    .dataframe tbody tr th {\n",
       "        vertical-align: top;\n",
       "    }\n",
       "\n",
       "    .dataframe thead th {\n",
       "        text-align: right;\n",
       "    }\n",
       "</style>\n",
       "<table border=\"1\" class=\"dataframe\">\n",
       "  <thead>\n",
       "    <tr style=\"text-align: right;\">\n",
       "      <th></th>\n",
       "      <th>gameTime</th>\n",
       "      <th>label</th>\n",
       "    </tr>\n",
       "  </thead>\n",
       "  <tbody>\n",
       "    <tr>\n",
       "      <th>0</th>\n",
       "      <td>00:00</td>\n",
       "      <td>Other</td>\n",
       "    </tr>\n",
       "    <tr>\n",
       "      <th>1</th>\n",
       "      <td>00:14</td>\n",
       "      <td>Shots on target</td>\n",
       "    </tr>\n",
       "    <tr>\n",
       "      <th>2</th>\n",
       "      <td>00:15</td>\n",
       "      <td>Goal</td>\n",
       "    </tr>\n",
       "    <tr>\n",
       "      <th>3</th>\n",
       "      <td>00:26</td>\n",
       "      <td>Goal</td>\n",
       "    </tr>\n",
       "    <tr>\n",
       "      <th>4</th>\n",
       "      <td>02:49</td>\n",
       "      <td>Direct free-kick</td>\n",
       "    </tr>\n",
       "    <tr>\n",
       "      <th>...</th>\n",
       "      <td>...</td>\n",
       "      <td>...</td>\n",
       "    </tr>\n",
       "    <tr>\n",
       "      <th>338</th>\n",
       "      <td>116:36</td>\n",
       "      <td>Goal</td>\n",
       "    </tr>\n",
       "    <tr>\n",
       "      <th>339</th>\n",
       "      <td>116:42</td>\n",
       "      <td>Corner</td>\n",
       "    </tr>\n",
       "    <tr>\n",
       "      <th>340</th>\n",
       "      <td>116:46</td>\n",
       "      <td>Goal</td>\n",
       "    </tr>\n",
       "    <tr>\n",
       "      <th>341</th>\n",
       "      <td>116:50</td>\n",
       "      <td>Corner</td>\n",
       "    </tr>\n",
       "    <tr>\n",
       "      <th>342</th>\n",
       "      <td>116:52</td>\n",
       "      <td>Goal</td>\n",
       "    </tr>\n",
       "  </tbody>\n",
       "</table>\n",
       "<p>343 rows × 2 columns</p>\n",
       "</div>"
      ],
      "text/plain": [
       "    gameTime             label\n",
       "0      00:00             Other\n",
       "1      00:14   Shots on target\n",
       "2      00:15              Goal\n",
       "3      00:26              Goal\n",
       "4      02:49  Direct free-kick\n",
       "..       ...               ...\n",
       "338   116:36              Goal\n",
       "339   116:42            Corner\n",
       "340   116:46              Goal\n",
       "341   116:50            Corner\n",
       "342   116:52              Goal\n",
       "\n",
       "[343 rows x 2 columns]"
      ]
     },
     "execution_count": 2,
     "metadata": {},
     "output_type": "execute_result"
    }
   ],
   "source": [
    "with open(\"C:\\\\Users\\\\user\\\\Desktop\\\\Jupyter\\\\TASK1_Confusion_matrix\\\\input\\\\groun_truth.json\", \"r\", encoding=\"utf8\") as f:\n",
    "    contents = f.read() # string 타입\n",
    "    json_data = json.loads(contents)\n",
    "df_json_data_groun_truth = json_normalize(json_data['annotations']) # json파일 -> dataframe에 넣기\n",
    "df_json_data_groun_truth = df_json_data_groun_truth.loc[:, ['gameTime', 'label']] # 내가 원하는 데이터만 추출\n",
    "df_json_data_groun_truth['gameTime'] = df_json_data_groun_truth.gameTime.str.split(' - ').str[1]  # 1 - , 2 - 와 같은 데이터 삭제\n",
    "\n",
    "df_json_data_groun_truth # 출력"
   ]
  },
  {
   "cell_type": "markdown",
   "metadata": {},
   "source": [
    "## prediction.json 불러오기\n",
    "1. 파일을 읽어서 dataframe에 넣기\n",
    "2. gameTime, label만 추출\n",
    "3. gameTime에서 분:초 가 아닌 데이터 삭제\n",
    "4. 특정 threshold를 기준으로 데이터 줄이기\n",
    "5. gameTime에서 Min, Sec을 추출하여 정렬하기"
   ]
  },
  {
   "cell_type": "code",
   "execution_count": 3,
   "metadata": {},
   "outputs": [],
   "source": [
    "with open(\"C:\\\\Users\\\\user\\\\Desktop\\\\Jupyter\\\\TASK1_Confusion_matrix\\\\input\\\\prediction.json\", \"r\", encoding=\"utf8\") as f:\n",
    "    contents = f.read() # string 타입\n",
    "    json_data = json.loads(contents)\n",
    "df = json_normalize(json_data['predictions'])  # json파일 -> dataframe에 넣기\n",
    "df = df.loc[:, ['gameTime', 'label', 'confidence']]   # 내가 원하는 데이터만 추출\n",
    "df['gameTime'] = df.gameTime.str.split(' - ').str[1]  # 1 - , 2 - 와 같은 데이터 삭제\n",
    "df['confidence'] = df['confidence'].astype(float)     # 내가 원하는 퍼센트 이상만 받기 위해 float형으로 변환\n",
    "index_drop = df[df['confidence'] < 0.5].index         # 특정 값 이하 삭제의 index 모으기\n",
    "df.drop(index_drop, inplace=True)                       # 해당 index 삭제\n",
    "\n",
    "df['MIN'] = df.gameTime.str.split(':').str[0]  # gameTime에서 분 추출\n",
    "df['MIN'] = pd.to_numeric(df['MIN'])\n",
    "df['SEC'] = df.gameTime.str.split(':').str[1]  # gameTime에서 초 추출\n",
    "df['SEC'] = pd.to_numeric(df['SEC'])\n",
    "\n",
    "\n",
    "df_json_data_prediction = df.sort_values(by = ['MIN', 'SEC']) # gameTime을 기준으로 정렬\n",
    "# df_json_data_prediction # 출력"
   ]
  },
  {
   "cell_type": "markdown",
   "metadata": {},
   "source": [
    "### 실제 데이터를 사용하기 전에 빠른 확인을 위한 prediction.json 데이터 줄이기\n",
    "groun_truth.json은 input -> small_input으로 가져올 때 수정으로 삭제"
   ]
  },
  {
   "cell_type": "code",
   "execution_count": 4,
   "metadata": {},
   "outputs": [
    {
     "data": {
      "text/html": [
       "<div>\n",
       "<style scoped>\n",
       "    .dataframe tbody tr th:only-of-type {\n",
       "        vertical-align: middle;\n",
       "    }\n",
       "\n",
       "    .dataframe tbody tr th {\n",
       "        vertical-align: top;\n",
       "    }\n",
       "\n",
       "    .dataframe thead th {\n",
       "        text-align: right;\n",
       "    }\n",
       "</style>\n",
       "<table border=\"1\" class=\"dataframe\">\n",
       "  <thead>\n",
       "    <tr style=\"text-align: right;\">\n",
       "      <th></th>\n",
       "      <th>gameTime</th>\n",
       "      <th>label</th>\n",
       "      <th>confidence</th>\n",
       "      <th>MIN</th>\n",
       "      <th>SEC</th>\n",
       "    </tr>\n",
       "  </thead>\n",
       "  <tbody>\n",
       "    <tr>\n",
       "      <th>0</th>\n",
       "      <td>0:1</td>\n",
       "      <td>Ball out of play</td>\n",
       "      <td>0.736685</td>\n",
       "      <td>0</td>\n",
       "      <td>1</td>\n",
       "    </tr>\n",
       "    <tr>\n",
       "      <th>1</th>\n",
       "      <td>0:1</td>\n",
       "      <td>Throw-in</td>\n",
       "      <td>0.726795</td>\n",
       "      <td>0</td>\n",
       "      <td>1</td>\n",
       "    </tr>\n",
       "    <tr>\n",
       "      <th>2</th>\n",
       "      <td>0:14</td>\n",
       "      <td>Corner</td>\n",
       "      <td>0.896660</td>\n",
       "      <td>0</td>\n",
       "      <td>14</td>\n",
       "    </tr>\n",
       "    <tr>\n",
       "      <th>3</th>\n",
       "      <td>0:16</td>\n",
       "      <td>Ball out of play</td>\n",
       "      <td>0.550042</td>\n",
       "      <td>0</td>\n",
       "      <td>16</td>\n",
       "    </tr>\n",
       "    <tr>\n",
       "      <th>4</th>\n",
       "      <td>0:31</td>\n",
       "      <td>Kick-off</td>\n",
       "      <td>0.757758</td>\n",
       "      <td>0</td>\n",
       "      <td>31</td>\n",
       "    </tr>\n",
       "    <tr>\n",
       "      <th>...</th>\n",
       "      <td>...</td>\n",
       "      <td>...</td>\n",
       "      <td>...</td>\n",
       "      <td>...</td>\n",
       "      <td>...</td>\n",
       "    </tr>\n",
       "    <tr>\n",
       "      <th>416</th>\n",
       "      <td>58:21</td>\n",
       "      <td>Goal</td>\n",
       "      <td>0.537783</td>\n",
       "      <td>58</td>\n",
       "      <td>21</td>\n",
       "    </tr>\n",
       "    <tr>\n",
       "      <th>417</th>\n",
       "      <td>58:27</td>\n",
       "      <td>Ball out of play</td>\n",
       "      <td>0.856980</td>\n",
       "      <td>58</td>\n",
       "      <td>27</td>\n",
       "    </tr>\n",
       "    <tr>\n",
       "      <th>418</th>\n",
       "      <td>58:29</td>\n",
       "      <td>Throw-in</td>\n",
       "      <td>0.889762</td>\n",
       "      <td>58</td>\n",
       "      <td>29</td>\n",
       "    </tr>\n",
       "    <tr>\n",
       "      <th>419</th>\n",
       "      <td>58:32</td>\n",
       "      <td>Kick-off</td>\n",
       "      <td>0.940929</td>\n",
       "      <td>58</td>\n",
       "      <td>32</td>\n",
       "    </tr>\n",
       "    <tr>\n",
       "      <th>420</th>\n",
       "      <td>58:32</td>\n",
       "      <td>Substitution</td>\n",
       "      <td>0.642120</td>\n",
       "      <td>58</td>\n",
       "      <td>32</td>\n",
       "    </tr>\n",
       "  </tbody>\n",
       "</table>\n",
       "<p>421 rows × 5 columns</p>\n",
       "</div>"
      ],
      "text/plain": [
       "    gameTime             label  confidence  MIN  SEC\n",
       "0        0:1  Ball out of play    0.736685    0    1\n",
       "1        0:1          Throw-in    0.726795    0    1\n",
       "2       0:14            Corner    0.896660    0   14\n",
       "3       0:16  Ball out of play    0.550042    0   16\n",
       "4       0:31          Kick-off    0.757758    0   31\n",
       "..       ...               ...         ...  ...  ...\n",
       "416    58:21              Goal    0.537783   58   21\n",
       "417    58:27  Ball out of play    0.856980   58   27\n",
       "418    58:29          Throw-in    0.889762   58   29\n",
       "419    58:32          Kick-off    0.940929   58   32\n",
       "420    58:32      Substitution    0.642120   58   32\n",
       "\n",
       "[421 rows x 5 columns]"
      ]
     },
     "execution_count": 4,
     "metadata": {},
     "output_type": "execute_result"
    }
   ],
   "source": [
    "# MIN 행 중 20분 이상인게 있는지 확인하고 drop하며 input 크기 줄이기\n",
    "# index_drop = df_json_data_prediction[df_json_data_prediction['MIN'] > 19].index         # 특정 값 이하 삭제의 index 모으기\n",
    "# df_json_data_prediction.drop(index_drop, inplace=True)                                          # 해당 index 삭제\n",
    "\n",
    "df_json_data_prediction = df_json_data_prediction.reset_index(drop=True) # 인덱스 재설정\n",
    "df_json_data_prediction # 출력"
   ]
  },
  {
   "cell_type": "markdown",
   "metadata": {},
   "source": [
    "시간 비교를 위해 df_json_data_groun_truth, df_json_data_prediction의 Game time을 지우고 MIN * 60 + Second로 Time label 추가."
   ]
  },
  {
   "cell_type": "code",
   "execution_count": 5,
   "metadata": {},
   "outputs": [],
   "source": [
    "df_json_data_groun_truth['MIN'] = df_json_data_groun_truth.gameTime.str.split(':').str[0]  # gameTime에서 분 추출\n",
    "df_json_data_groun_truth['MIN'] = pd.to_numeric(df_json_data_groun_truth['MIN'])\n",
    "df_json_data_groun_truth['SEC'] = df_json_data_groun_truth.gameTime.str.split(':').str[1]  # gameTime에서 초 추출\n",
    "df_json_data_groun_truth['SEC'] = pd.to_numeric(df_json_data_groun_truth['SEC'])"
   ]
  },
  {
   "cell_type": "code",
   "execution_count": 6,
   "metadata": {},
   "outputs": [
    {
     "data": {
      "text/html": [
       "<div>\n",
       "<style scoped>\n",
       "    .dataframe tbody tr th:only-of-type {\n",
       "        vertical-align: middle;\n",
       "    }\n",
       "\n",
       "    .dataframe tbody tr th {\n",
       "        vertical-align: top;\n",
       "    }\n",
       "\n",
       "    .dataframe thead th {\n",
       "        text-align: right;\n",
       "    }\n",
       "</style>\n",
       "<table border=\"1\" class=\"dataframe\">\n",
       "  <thead>\n",
       "    <tr style=\"text-align: right;\">\n",
       "      <th></th>\n",
       "      <th>label</th>\n",
       "      <th>confidence</th>\n",
       "      <th>Time</th>\n",
       "    </tr>\n",
       "  </thead>\n",
       "  <tbody>\n",
       "    <tr>\n",
       "      <th>0</th>\n",
       "      <td>Ball out of play</td>\n",
       "      <td>0.736685</td>\n",
       "      <td>1</td>\n",
       "    </tr>\n",
       "    <tr>\n",
       "      <th>1</th>\n",
       "      <td>Throw-in</td>\n",
       "      <td>0.726795</td>\n",
       "      <td>1</td>\n",
       "    </tr>\n",
       "    <tr>\n",
       "      <th>2</th>\n",
       "      <td>Corner</td>\n",
       "      <td>0.896660</td>\n",
       "      <td>14</td>\n",
       "    </tr>\n",
       "    <tr>\n",
       "      <th>3</th>\n",
       "      <td>Ball out of play</td>\n",
       "      <td>0.550042</td>\n",
       "      <td>16</td>\n",
       "    </tr>\n",
       "    <tr>\n",
       "      <th>4</th>\n",
       "      <td>Kick-off</td>\n",
       "      <td>0.757758</td>\n",
       "      <td>31</td>\n",
       "    </tr>\n",
       "    <tr>\n",
       "      <th>...</th>\n",
       "      <td>...</td>\n",
       "      <td>...</td>\n",
       "      <td>...</td>\n",
       "    </tr>\n",
       "    <tr>\n",
       "      <th>416</th>\n",
       "      <td>Goal</td>\n",
       "      <td>0.537783</td>\n",
       "      <td>3501</td>\n",
       "    </tr>\n",
       "    <tr>\n",
       "      <th>417</th>\n",
       "      <td>Ball out of play</td>\n",
       "      <td>0.856980</td>\n",
       "      <td>3507</td>\n",
       "    </tr>\n",
       "    <tr>\n",
       "      <th>418</th>\n",
       "      <td>Throw-in</td>\n",
       "      <td>0.889762</td>\n",
       "      <td>3509</td>\n",
       "    </tr>\n",
       "    <tr>\n",
       "      <th>419</th>\n",
       "      <td>Kick-off</td>\n",
       "      <td>0.940929</td>\n",
       "      <td>3512</td>\n",
       "    </tr>\n",
       "    <tr>\n",
       "      <th>420</th>\n",
       "      <td>Substitution</td>\n",
       "      <td>0.642120</td>\n",
       "      <td>3512</td>\n",
       "    </tr>\n",
       "  </tbody>\n",
       "</table>\n",
       "<p>421 rows × 3 columns</p>\n",
       "</div>"
      ],
      "text/plain": [
       "                label  confidence  Time\n",
       "0    Ball out of play    0.736685     1\n",
       "1            Throw-in    0.726795     1\n",
       "2              Corner    0.896660    14\n",
       "3    Ball out of play    0.550042    16\n",
       "4            Kick-off    0.757758    31\n",
       "..                ...         ...   ...\n",
       "416              Goal    0.537783  3501\n",
       "417  Ball out of play    0.856980  3507\n",
       "418          Throw-in    0.889762  3509\n",
       "419          Kick-off    0.940929  3512\n",
       "420      Substitution    0.642120  3512\n",
       "\n",
       "[421 rows x 3 columns]"
      ]
     },
     "execution_count": 6,
     "metadata": {},
     "output_type": "execute_result"
    }
   ],
   "source": [
    "df_json_data_groun_truth['Time'] = df_json_data_groun_truth['MIN']*60 + df_json_data_groun_truth['SEC']\n",
    "df_json_data_groun_truth.drop(['gameTime', 'MIN', 'SEC'], axis=1, inplace=True)\n",
    "\n",
    "df_json_data_prediction['Time'] = df_json_data_prediction['MIN']*60 + df_json_data_prediction['SEC']\n",
    "df_json_data_prediction.drop(['gameTime', 'MIN', 'SEC'], axis=1, inplace=True)\n",
    "\n",
    "df_json_data_prediction"
   ]
  },
  {
   "cell_type": "markdown",
   "metadata": {},
   "source": [
    "## confusion matrix\n",
    "참고자료\n",
    "\n",
    "1. https://panython.tistory.com/20\n",
    "\n",
    "2. http://datascienceschool.net/03%20machine%20learning/09.04%20%EB%B6%84%EB%A5%98%20%EC%84%B1%EB%8A%A5%ED%8F%89%EA%B0%80.html"
   ]
  },
  {
   "cell_type": "code",
   "execution_count": 7,
   "metadata": {},
   "outputs": [],
   "source": [
    "# confusion matrix 사용을 위한 라이브러리\n",
    "from sklearn.metrics import confusion_matrix\n",
    "from mlxtend.plotting import plot_confusion_matrix\n",
    "import matplotlib\n",
    "\n",
    "import matplotlib.pyplot as plt\n",
    "import numpy as np"
   ]
  },
  {
   "cell_type": "markdown",
   "metadata": {},
   "source": [
    "#### Exercise\n",
    "\n",
    "http://rasbt.github.io/mlxtend/user_guide/plotting/plot_confusion_matrix/"
   ]
  },
  {
   "cell_type": "code",
   "execution_count": 8,
   "metadata": {},
   "outputs": [
    {
     "data": {
      "image/png": "[encoded data removed]",
      "text/plain": [
       "<Figure size 432x288 with 1 Axes>"
      ]
     },
     "metadata": {
      "needs_background": "light"
     },
     "output_type": "display_data"
    },
    {
     "data": {
      "image/png": "[encoded data removed]",
      "text/plain": [
       "<Figure size 432x288 with 1 Axes>"
      ]
     },
     "metadata": {
      "needs_background": "light"
     },
     "output_type": "display_data"
    }
   ],
   "source": [
    "class_dict = {0: 'airplane',\n",
    "              1: 'automobile',\n",
    "              2: 'bird',\n",
    "              3: 'cat',\n",
    "              4: 'deer',\n",
    "              5: 'dog',\n",
    "              6: 'frog'}\n",
    "\n",
    "cmat = np.array([[972, 0, 1, 1, 1, 1, 3],\n",
    "                 [0, 1123, 3, 1, 0, 1, 2],\n",
    "                 [2, 0, 1025, 0, 0, 0, 1],\n",
    "                 [0, 0, 0, 1005, 0, 2, 0],\n",
    "                 [0, 1, 1, 0, 967, 0, 4],\n",
    "                 [0, 0, 0, 6, 0, 881, 3],\n",
    "                 [2, 3, 0, 1, 3, 4, 941]])\n",
    "\n",
    "fig, ax = plot_confusion_matrix(\n",
    "    conf_mat=cmat,\n",
    "    class_names=class_dict.values(),\n",
    ")\n",
    "fig, ax = plot_confusion_matrix(\n",
    "    conf_mat=cmat,\n",
    "    class_names=class_dict.values(),\n",
    "    norm_colormap=matplotlib.colors.LogNorm()  \n",
    ")"
   ]
  },
  {
   "cell_type": "markdown",
   "metadata": {},
   "source": [
    "#### Counting\n",
    "    인풋 :1. df_json_data_groun_truth -> game_time, label이 있는 dataframe\n",
    "          2. df_json_data_prediction  -> game_time, label이 있는 dataframe\n",
    "          나머지 데이터는 여기부터 필요 X\n",
    "          \n",
    "    아웃풋 : cmat에 숫자를 추가한 것"
   ]
  },
  {
   "cell_type": "code",
   "execution_count": 9,
   "metadata": {},
   "outputs": [],
   "source": [
    "class_dict = {0 : 'Ball out of play',\n",
    "              1 : 'Throw-in',\n",
    "              2 : 'Foul',\n",
    "              3 : 'Indirect free-kick',\n",
    "              4 : 'Clearance',\n",
    "              5 : 'Shots on target',\n",
    "              6 : 'Shots off target',\n",
    "              7 : 'Corner',\n",
    "              8 : 'Substitution',\n",
    "              9 : 'Kick-off',\n",
    "              10 : 'Yellow card',\n",
    "              11 : 'Offside',\n",
    "              12 : 'Direct free-kick',\n",
    "              13 : 'Goal',\n",
    "              14 : 'Penalty',\n",
    "              15 : 'Red card',\n",
    "              16 : 'Start of game',\n",
    "              17 : 'End of game',\n",
    "              18 : 'Start of replay',\n",
    "              19 : 'End of replay',\n",
    "              20 : 'Yellow card -> red card',\n",
    "              21 : 'Other',\n",
    "              22 : 'NONE'}"
   ]
  },
  {
   "cell_type": "code",
   "execution_count": 10,
   "metadata": {},
   "outputs": [
    {
     "name": "stdout",
     "output_type": "stream",
     "text": [
      "<class 'dict'>\n"
     ]
    }
   ],
   "source": [
    "# class_dict.reverse()\n",
    "class_dict = dict(map(reversed,class_dict.items()))\n",
    "print(type(class_dict))"
   ]
  },
  {
   "cell_type": "code",
   "execution_count": 11,
   "metadata": {},
   "outputs": [
    {
     "name": "stdout",
     "output_type": "stream",
     "text": [
      "23\n"
     ]
    }
   ],
   "source": [
    "class_dict\n",
    "print(len(class_dict))"
   ]
  },
  {
   "cell_type": "code",
   "execution_count": 12,
   "metadata": {},
   "outputs": [],
   "source": [
    "cmat = np.array([0]*len(class_dict)*len(class_dict)).reshape((len(class_dict), len(class_dict)))\n",
    "# cmat = np.array([[0, 0, 0, 0, 0, 0, 0, 0, 0, 0, 0, 0, 0, 0, 0, 0, 0, 0, 0, 0, 0, 0, 0],\n",
    "#                  [0, 0, 0, 0, 0, 0, 0, 0, 0, 0, 0, 0, 0, 0, 0, 0, 0, 0, 0, 0, 0, 0, 0],\n",
    "#                  [0, 0, 0, 0, 0, 0, 0, 0, 0, 0, 0, 0, 0, 0, 0, 0, 0, 0, 0, 0, 0, 0, 0],\n",
    "#                  [0, 0, 0, 0, 0, 0, 0, 0, 0, 0, 0, 0, 0, 0, 0, 0, 0, 0, 0, 0, 0, 0, 0],\n",
    "#                  [0, 0, 0, 0, 0, 0, 0, 0, 0, 0, 0, 0, 0, 0, 0, 0, 0, 0, 0, 0, 0, 0, 0],\n",
    "#                  [0, 0, 0, 0, 0, 0, 0, 0, 0, 0, 0, 0, 0, 0, 0, 0, 0, 0, 0, 0, 0, 0, 0],\n",
    "#                  [0, 0, 0, 0, 0, 0, 0, 0, 0, 0, 0, 0, 0, 0, 0, 0, 0, 0, 0, 0, 0, 0, 0],\n",
    "#                  [0, 0, 0, 0, 0, 0, 0, 0, 0, 0, 0, 0, 0, 0, 0, 0, 0, 0, 0, 0, 0, 0, 0],\n",
    "#                  [0, 0, 0, 0, 0, 0, 0, 0, 0, 0, 0, 0, 0, 0, 0, 0, 0, 0, 0, 0, 0, 0, 0],\n",
    "#                  [0, 0, 0, 0, 0, 0, 0, 0, 0, 0, 0, 0, 0, 0, 0, 0, 0, 0, 0, 0, 0, 0, 0],\n",
    "#                  [0, 0, 0, 0, 0, 0, 0, 0, 0, 0, 0, 0, 0, 0, 0, 0, 0, 0, 0, 0, 0, 0, 0],\n",
    "#                  [0, 0, 0, 0, 0, 0, 0, 0, 0, 0, 0, 0, 0, 0, 0, 0, 0, 0, 0, 0, 0, 0, 0],\n",
    "#                  [0, 0, 0, 0, 0, 0, 0, 0, 0, 0, 0, 0, 0, 0, 0, 0, 0, 0, 0, 0, 0, 0, 0],\n",
    "#                  [0, 0, 0, 0, 0, 0, 0, 0, 0, 0, 0, 0, 0, 0, 0, 0, 0, 0, 0, 0, 0, 0, 0],\n",
    "#                  [0, 0, 0, 0, 0, 0, 0, 0, 0, 0, 0, 0, 0, 0, 0, 0, 0, 0, 0, 0, 0, 0, 0],\n",
    "#                  [0, 0, 0, 0, 0, 0, 0, 0, 0, 0, 0, 0, 0, 0, 0, 0, 0, 0, 0, 0, 0, 0, 0],\n",
    "#                  [0, 0, 0, 0, 0, 0, 0, 0, 0, 0, 0, 0, 0, 0, 0, 0, 0, 0, 0, 0, 0, 0, 0],\n",
    "#                  [0, 0, 0, 0, 0, 0, 0, 0, 0, 0, 0, 0, 0, 0, 0, 0, 0, 0, 0, 0, 0, 0, 0],\n",
    "#                  [0, 0, 0, 0, 0, 0, 0, 0, 0, 0, 0, 0, 0, 0, 0, 0, 0, 0, 0, 0, 0, 0, 0],\n",
    "#                  [0, 0, 0, 0, 0, 0, 0, 0, 0, 0, 0, 0, 0, 0, 0, 0, 0, 0, 0, 0, 0, 0, 0],\n",
    "#                  [0, 0, 0, 0, 0, 0, 0, 0, 0, 0, 0, 0, 0, 0, 0, 0, 0, 0, 0, 0, 0, 0, 0],\n",
    "#                  [0, 0, 0, 0, 0, 0, 0, 0, 0, 0, 0, 0, 0, 0, 0, 0, 0, 0, 0, 0, 0, 0, 0],\n",
    "#                  [0, 0, 0, 0, 0, 0, 0, 0, 0, 0, 0, 0, 0, 0, 0, 0, 0, 0, 0, 0, 0, 0, 0]])"
   ]
  },
  {
   "cell_type": "markdown",
   "metadata": {},
   "source": [
    "1. GT를 for문으로 지나면서 가장 가까운 predict을 찾기\n",
    "2. 둘을 삭제하면서 cmat에 +1\n",
    "    - 만약 초를 지났을 때 까지 없다면 pass\n",
    "3. 남은 predict(or GT)를 NONE과 매치하면서 +1"
   ]
  },
  {
   "cell_type": "code",
   "execution_count": 13,
   "metadata": {},
   "outputs": [],
   "source": [
    " df_json_data_prediction.reset_index(drop=True, inplace = True) # 인덱스 재설정"
   ]
  },
  {
   "cell_type": "code",
   "execution_count": 14,
   "metadata": {
    "scrolled": false
   },
   "outputs": [
    {
     "data": {
      "text/html": [
       "<div>\n",
       "<style scoped>\n",
       "    .dataframe tbody tr th:only-of-type {\n",
       "        vertical-align: middle;\n",
       "    }\n",
       "\n",
       "    .dataframe tbody tr th {\n",
       "        vertical-align: top;\n",
       "    }\n",
       "\n",
       "    .dataframe thead th {\n",
       "        text-align: right;\n",
       "    }\n",
       "</style>\n",
       "<table border=\"1\" class=\"dataframe\">\n",
       "  <thead>\n",
       "    <tr style=\"text-align: right;\">\n",
       "      <th></th>\n",
       "      <th>label</th>\n",
       "      <th>confidence</th>\n",
       "      <th>Time</th>\n",
       "    </tr>\n",
       "  </thead>\n",
       "  <tbody>\n",
       "    <tr>\n",
       "      <th>0</th>\n",
       "      <td>Ball out of play</td>\n",
       "      <td>0.736685</td>\n",
       "      <td>1</td>\n",
       "    </tr>\n",
       "    <tr>\n",
       "      <th>1</th>\n",
       "      <td>Throw-in</td>\n",
       "      <td>0.726795</td>\n",
       "      <td>1</td>\n",
       "    </tr>\n",
       "    <tr>\n",
       "      <th>2</th>\n",
       "      <td>Corner</td>\n",
       "      <td>0.896660</td>\n",
       "      <td>14</td>\n",
       "    </tr>\n",
       "    <tr>\n",
       "      <th>3</th>\n",
       "      <td>Ball out of play</td>\n",
       "      <td>0.550042</td>\n",
       "      <td>16</td>\n",
       "    </tr>\n",
       "    <tr>\n",
       "      <th>4</th>\n",
       "      <td>Kick-off</td>\n",
       "      <td>0.757758</td>\n",
       "      <td>31</td>\n",
       "    </tr>\n",
       "    <tr>\n",
       "      <th>...</th>\n",
       "      <td>...</td>\n",
       "      <td>...</td>\n",
       "      <td>...</td>\n",
       "    </tr>\n",
       "    <tr>\n",
       "      <th>416</th>\n",
       "      <td>Goal</td>\n",
       "      <td>0.537783</td>\n",
       "      <td>3501</td>\n",
       "    </tr>\n",
       "    <tr>\n",
       "      <th>417</th>\n",
       "      <td>Ball out of play</td>\n",
       "      <td>0.856980</td>\n",
       "      <td>3507</td>\n",
       "    </tr>\n",
       "    <tr>\n",
       "      <th>418</th>\n",
       "      <td>Throw-in</td>\n",
       "      <td>0.889762</td>\n",
       "      <td>3509</td>\n",
       "    </tr>\n",
       "    <tr>\n",
       "      <th>419</th>\n",
       "      <td>Kick-off</td>\n",
       "      <td>0.940929</td>\n",
       "      <td>3512</td>\n",
       "    </tr>\n",
       "    <tr>\n",
       "      <th>420</th>\n",
       "      <td>Substitution</td>\n",
       "      <td>0.642120</td>\n",
       "      <td>3512</td>\n",
       "    </tr>\n",
       "  </tbody>\n",
       "</table>\n",
       "<p>421 rows × 3 columns</p>\n",
       "</div>"
      ],
      "text/plain": [
       "                label  confidence  Time\n",
       "0    Ball out of play    0.736685     1\n",
       "1            Throw-in    0.726795     1\n",
       "2              Corner    0.896660    14\n",
       "3    Ball out of play    0.550042    16\n",
       "4            Kick-off    0.757758    31\n",
       "..                ...         ...   ...\n",
       "416              Goal    0.537783  3501\n",
       "417  Ball out of play    0.856980  3507\n",
       "418          Throw-in    0.889762  3509\n",
       "419          Kick-off    0.940929  3512\n",
       "420      Substitution    0.642120  3512\n",
       "\n",
       "[421 rows x 3 columns]"
      ]
     },
     "execution_count": 14,
     "metadata": {},
     "output_type": "execute_result"
    }
   ],
   "source": [
    "df_json_data_prediction"
   ]
  },
  {
   "cell_type": "code",
   "execution_count": 15,
   "metadata": {
    "scrolled": true
   },
   "outputs": [],
   "source": [
    "for i in df_json_data_groun_truth.index:\n",
    "    min_time_diff = abs(df_json_data_groun_truth[\"Time\"][i] - df_json_data_prediction[\"Time\"][0])\n",
    "    index = 0\n",
    "    SUM = True\n",
    "    for j in df_json_data_prediction.index:\n",
    "#         print(\"GT is : \", df_json_data_groun_truth[\"Time\"][i])\n",
    "#         print(\"prediction is : \", df_json_data_prediction[\"Time\"][j])\n",
    "#         print(\"min_time_diff is :\", min_time_diff)\n",
    "        \n",
    "        temp = abs(df_json_data_groun_truth[\"Time\"][i] - df_json_data_prediction[\"Time\"][j])\n",
    "        if min_time_diff >= temp:\n",
    "            \n",
    "            min_time_diff = abs(df_json_data_groun_truth[\"Time\"][i] - df_json_data_prediction[\"Time\"][j])\n",
    "        else :\n",
    "            index = j\n",
    "            if min_time_diff > 4:\n",
    "                SUM = False\n",
    "            break\n",
    "            \n",
    "    if SUM :\n",
    "        x = class_dict.get(df_json_data_groun_truth[\"label\"][i])\n",
    "        y = class_dict.get(df_json_data_prediction[\"label\"][index])\n",
    "\n",
    "        cmat[x,y] += 1\n",
    "        df_json_data_prediction.drop(index, inplace=True)\n",
    "        df_json_data_prediction = df_json_data_prediction.reset_index(drop=True) # 인덱스 재설정\n",
    "\n",
    "    else :\n",
    "        x = class_dict.get(df_json_data_groun_truth[\"label\"][i])\n",
    "        cmat[x, 22] += 1\n"
   ]
  },
  {
   "cell_type": "code",
   "execution_count": 16,
   "metadata": {
    "scrolled": false
   },
   "outputs": [
    {
     "name": "stdout",
     "output_type": "stream",
     "text": [
      "[[18  8  0  0  5  0  0  2 14 17  0  0  0  5  0  0  0  0  0  0  0  0  8]\n",
      " [ 6  0  1  0  1  1  0  3  2 22  0  0  0  0  0  0  0  0  0  0  0  0  6]\n",
      " [ 5  0  0  0  1  0  0  0  1  8  0  0  0  1  0  0  0  0  0  0  0  0  6]\n",
      " [ 0  0  0  0  1  1  0  0  3  7  0  0  0  2  0  0  0  0  0  0  0  0  6]\n",
      " [ 1  0  0  0  1  0  0  0  1  7  0  0  0  2  0  0  0  0  0  0  0  0  3]\n",
      " [ 0  0  0  0  0  0  0  0  0  1  0  0  0  0  0  0  0  0  0  0  0  0  0]\n",
      " [ 0  0  0  0  0  0  0  0  0  0  0  0  0  0  0  0  0  0  0  0  0  0  0]\n",
      " [ 1  0  0  0  0  2  0  1  1  4  0  0  0  3  0  0  0  0  0  0  0  0  0]\n",
      " [ 3  0  0  0  3  0  0  0  2  1  0  0  0  0  0  0  0  0  0  0  0  0  0]\n",
      " [ 0  0  0  0  0  0  0  0  0  3  0  0  0  0  0  0  0  0  0  0  0  0  1]\n",
      " [ 0  0  0  0  1  0  0  0  0  2  0  0  0  0  0  0  0  0  0  0  0  0  0]\n",
      " [ 2  0  0  0  0  0  0  0  0  1  0  0  0  0  0  0  0  0  0  0  0  0  3]\n",
      " [ 1  0  0  0  0  0  0  0  0  0  0  0  0  0  0  0  0  0  0  0  0  0  1]\n",
      " [ 0  0  0  0  3  0  0  1  5  7  0  0  0  1  0  0  0  0  0  0  0  0 21]\n",
      " [ 0  0  0  0  0  0  0  0  0  0  0  0  0  0  0  0  0  0  0  0  0  0  0]\n",
      " [ 0  0  0  0  0  0  0  0  0  0  0  0  0  0  0  0  0  0  0  0  0  0  0]\n",
      " [ 0  0  0  0  0  0  0  0  1  0  0  0  0  0  0  0  0  0  0  0  0  0  1]\n",
      " [ 1  0  0  0  0  0  0  0  0  1  0  0  0  0  0  0  0  0  0  0  0  0  0]\n",
      " [ 3  0  0  0  2  0  0  2  6 17  0  0  0  1  0  0  0  0  0  0  0  0 13]\n",
      " [ 8  0  0  0  1  1  0  1  2 20  0  0  0  1  0  0  0  0  0  0  0  0  9]\n",
      " [ 0  0  0  0  0  0  0  0  0  0  0  0  0  0  0  0  0  0  0  0  0  0  0]\n",
      " [ 0  0  0  0  0  0  0  1  0  0  0  0  0  0  0  0  0  0  0  0  0  0  0]\n",
      " [ 0  0  0  0  0  0  0  0  0  0  0  0  0  0  0  0  0  0  0  0  0  0  0]]\n"
     ]
    }
   ],
   "source": [
    "print(cmat)"
   ]
  },
  {
   "cell_type": "code",
   "execution_count": 17,
   "metadata": {},
   "outputs": [
    {
     "name": "stderr",
     "output_type": "stream",
     "text": [
      "C:\\Users\\user\\AppData\\Roaming\\Python\\Python39\\site-packages\\mlxtend\\plotting\\plot_confusion_matrix.py:102: RuntimeWarning: invalid value encountered in true_divide\n",
      "  normed_conf_mat = conf_mat.astype(\"float\") / total_samples\n"
     ]
    },
    {
     "data": {
      "image/png": "[encoded data removed]",
      "text/plain": [
       "<Figure size 720x720 with 1 Axes>"
      ]
     },
     "metadata": {
      "needs_background": "light"
     },
     "output_type": "display_data"
    }
   ],
   "source": [
    "fig, ax = plot_confusion_matrix(\n",
    "    conf_mat=cmat, figsize = (10, 10),\n",
    "    class_names=class_dict.keys(),\n",
    "    norm_colormap=matplotlib.colors.LogNorm()  \n",
    ")"
   ]
  },
  {
   "cell_type": "code",
   "execution_count": 18,
   "metadata": {},
   "outputs": [
    {
     "name": "stdout",
     "output_type": "stream",
     "text": [
      "343\n"
     ]
    }
   ],
   "source": [
    "print(np.sum(cmat))"
   ]
  },
  {
   "cell_type": "code",
   "execution_count": 19,
   "metadata": {},
   "outputs": [
    {
     "data": {
      "text/html": [
       "<div>\n",
       "<style scoped>\n",
       "    .dataframe tbody tr th:only-of-type {\n",
       "        vertical-align: middle;\n",
       "    }\n",
       "\n",
       "    .dataframe tbody tr th {\n",
       "        vertical-align: top;\n",
       "    }\n",
       "\n",
       "    .dataframe thead th {\n",
       "        text-align: right;\n",
       "    }\n",
       "</style>\n",
       "<table border=\"1\" class=\"dataframe\">\n",
       "  <thead>\n",
       "    <tr style=\"text-align: right;\">\n",
       "      <th></th>\n",
       "      <th>label</th>\n",
       "      <th>confidence</th>\n",
       "      <th>Time</th>\n",
       "    </tr>\n",
       "  </thead>\n",
       "  <tbody>\n",
       "    <tr>\n",
       "      <th>0</th>\n",
       "      <td>Kick-off</td>\n",
       "      <td>0.870351</td>\n",
       "      <td>1641</td>\n",
       "    </tr>\n",
       "    <tr>\n",
       "      <th>1</th>\n",
       "      <td>Kick-off</td>\n",
       "      <td>0.937542</td>\n",
       "      <td>1673</td>\n",
       "    </tr>\n",
       "    <tr>\n",
       "      <th>2</th>\n",
       "      <td>Kick-off</td>\n",
       "      <td>0.962835</td>\n",
       "      <td>1697</td>\n",
       "    </tr>\n",
       "    <tr>\n",
       "      <th>3</th>\n",
       "      <td>Kick-off</td>\n",
       "      <td>0.722502</td>\n",
       "      <td>1702</td>\n",
       "    </tr>\n",
       "    <tr>\n",
       "      <th>4</th>\n",
       "      <td>Kick-off</td>\n",
       "      <td>0.801614</td>\n",
       "      <td>1712</td>\n",
       "    </tr>\n",
       "    <tr>\n",
       "      <th>...</th>\n",
       "      <td>...</td>\n",
       "      <td>...</td>\n",
       "      <td>...</td>\n",
       "    </tr>\n",
       "    <tr>\n",
       "      <th>151</th>\n",
       "      <td>Corner</td>\n",
       "      <td>0.937923</td>\n",
       "      <td>3484</td>\n",
       "    </tr>\n",
       "    <tr>\n",
       "      <th>152</th>\n",
       "      <td>Substitution</td>\n",
       "      <td>0.653813</td>\n",
       "      <td>3489</td>\n",
       "    </tr>\n",
       "    <tr>\n",
       "      <th>153</th>\n",
       "      <td>Goal</td>\n",
       "      <td>0.537783</td>\n",
       "      <td>3501</td>\n",
       "    </tr>\n",
       "    <tr>\n",
       "      <th>154</th>\n",
       "      <td>Kick-off</td>\n",
       "      <td>0.940929</td>\n",
       "      <td>3512</td>\n",
       "    </tr>\n",
       "    <tr>\n",
       "      <th>155</th>\n",
       "      <td>Substitution</td>\n",
       "      <td>0.642120</td>\n",
       "      <td>3512</td>\n",
       "    </tr>\n",
       "  </tbody>\n",
       "</table>\n",
       "<p>156 rows × 3 columns</p>\n",
       "</div>"
      ],
      "text/plain": [
       "            label  confidence  Time\n",
       "0        Kick-off    0.870351  1641\n",
       "1        Kick-off    0.937542  1673\n",
       "2        Kick-off    0.962835  1697\n",
       "3        Kick-off    0.722502  1702\n",
       "4        Kick-off    0.801614  1712\n",
       "..            ...         ...   ...\n",
       "151        Corner    0.937923  3484\n",
       "152  Substitution    0.653813  3489\n",
       "153          Goal    0.537783  3501\n",
       "154      Kick-off    0.940929  3512\n",
       "155  Substitution    0.642120  3512\n",
       "\n",
       "[156 rows x 3 columns]"
      ]
     },
     "execution_count": 19,
     "metadata": {},
     "output_type": "execute_result"
    }
   ],
   "source": [
    "df_json_data_prediction\n",
    "# GT 근처에 없어 남은 데이터들"
   ]
  }
 ],
 "metadata": {
  "kernelspec": {
   "display_name": "Python 3 (ipykernel)",
   "language": "python",
   "name": "python3"
  },
  "language_info": {
   "codemirror_mode": {
    "name": "ipython",
    "version": 3
   },
   "file_extension": ".py",
   "mimetype": "text/x-python",
   "name": "python",
   "nbconvert_exporter": "python",
   "pygments_lexer": "ipython3",
   "version": "3.9.12"
  },
  "vscode": {
   "interpreter": {
    "hash": "82ed002fa2d4956f5c6aec99bcefe0f73a9f79882f3c9e2319b14958a5896ac5"
   }
  }
 },
 "nbformat": 4,
 "nbformat_minor": 2
}
