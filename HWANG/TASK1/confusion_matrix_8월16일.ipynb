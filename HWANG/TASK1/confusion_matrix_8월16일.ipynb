{
 "cells": [
  {
   "cell_type": "markdown",
   "metadata": {},
   "source": [
    "# Confusion matrix 만들기"
   ]
  },
  {
   "cell_type": "code",
   "execution_count": 1,
   "metadata": {},
   "outputs": [],
   "source": [
    "import json\n",
    "import pandas as pd\n",
    "from pandas import json_normalize"
   ]
  },
  {
   "cell_type": "markdown",
   "metadata": {},
   "source": [
    "## ground truth.json 불러오기\n",
    "1. 파일을 읽어서 dataframe에 넣기\n",
    "2. gameTime, label만 추출\n",
    "3. gameTime에서 분:초를 제외한 데이터 삭제"
   ]
  },
  {
   "cell_type": "code",
   "execution_count": 2,
   "metadata": {},
   "outputs": [
    {
     "data": {
      "text/html": [
       "<div>\n",
       "<style scoped>\n",
       "    .dataframe tbody tr th:only-of-type {\n",
       "        vertical-align: middle;\n",
       "    }\n",
       "\n",
       "    .dataframe tbody tr th {\n",
       "        vertical-align: top;\n",
       "    }\n",
       "\n",
       "    .dataframe thead th {\n",
       "        text-align: right;\n",
       "    }\n",
       "</style>\n",
       "<table border=\"1\" class=\"dataframe\">\n",
       "  <thead>\n",
       "    <tr style=\"text-align: right;\">\n",
       "      <th></th>\n",
       "      <th>gameTime</th>\n",
       "      <th>label</th>\n",
       "    </tr>\n",
       "  </thead>\n",
       "  <tbody>\n",
       "    <tr>\n",
       "      <th>0</th>\n",
       "      <td>00:00</td>\n",
       "      <td>Other</td>\n",
       "    </tr>\n",
       "    <tr>\n",
       "      <th>1</th>\n",
       "      <td>00:14</td>\n",
       "      <td>Shots on target</td>\n",
       "    </tr>\n",
       "    <tr>\n",
       "      <th>2</th>\n",
       "      <td>00:15</td>\n",
       "      <td>Goal</td>\n",
       "    </tr>\n",
       "    <tr>\n",
       "      <th>3</th>\n",
       "      <td>00:26</td>\n",
       "      <td>Goal</td>\n",
       "    </tr>\n",
       "    <tr>\n",
       "      <th>4</th>\n",
       "      <td>02:49</td>\n",
       "      <td>Direct free-kick</td>\n",
       "    </tr>\n",
       "    <tr>\n",
       "      <th>...</th>\n",
       "      <td>...</td>\n",
       "      <td>...</td>\n",
       "    </tr>\n",
       "    <tr>\n",
       "      <th>338</th>\n",
       "      <td>116:36</td>\n",
       "      <td>Goal</td>\n",
       "    </tr>\n",
       "    <tr>\n",
       "      <th>339</th>\n",
       "      <td>116:42</td>\n",
       "      <td>Corner</td>\n",
       "    </tr>\n",
       "    <tr>\n",
       "      <th>340</th>\n",
       "      <td>116:46</td>\n",
       "      <td>Goal</td>\n",
       "    </tr>\n",
       "    <tr>\n",
       "      <th>341</th>\n",
       "      <td>116:50</td>\n",
       "      <td>Corner</td>\n",
       "    </tr>\n",
       "    <tr>\n",
       "      <th>342</th>\n",
       "      <td>116:52</td>\n",
       "      <td>Goal</td>\n",
       "    </tr>\n",
       "  </tbody>\n",
       "</table>\n",
       "<p>343 rows × 2 columns</p>\n",
       "</div>"
      ],
      "text/plain": [
       "    gameTime             label\n",
       "0      00:00             Other\n",
       "1      00:14   Shots on target\n",
       "2      00:15              Goal\n",
       "3      00:26              Goal\n",
       "4      02:49  Direct free-kick\n",
       "..       ...               ...\n",
       "338   116:36              Goal\n",
       "339   116:42            Corner\n",
       "340   116:46              Goal\n",
       "341   116:50            Corner\n",
       "342   116:52              Goal\n",
       "\n",
       "[343 rows x 2 columns]"
      ]
     },
     "execution_count": 2,
     "metadata": {},
     "output_type": "execute_result"
    }
   ],
   "source": [
    "with open(\"C:\\\\Users\\\\user\\\\Desktop\\\\Jupyter\\\\TASK1_Confusion_matrix\\\\input\\\\groun_truth.json\", \"r\", encoding=\"utf8\") as f:\n",
    "    contents = f.read() # string 타입\n",
    "    json_data = json.loads(contents)\n",
    "df_json_data_groun_truth = json_normalize(json_data['annotations']) # json파일 -> dataframe에 넣기\n",
    "df_json_data_groun_truth = df_json_data_groun_truth.loc[:, ['gameTime', 'label']] # 내가 원하는 데이터만 추출\n",
    "df_json_data_groun_truth['gameTime'] = df_json_data_groun_truth.gameTime.str.split(' - ').str[1]  # 1 - , 2 - 와 같은 데이터 삭제\n",
    "\n",
    "df_json_data_groun_truth # 출력"
   ]
  },
  {
   "cell_type": "markdown",
   "metadata": {},
   "source": [
    "## prediction.json 불러오기\n",
    "1. 파일을 읽어서 dataframe에 넣기\n",
    "2. gameTime, label만 추출\n",
    "3. gameTime에서 분:초 가 아닌 데이터 삭제\n",
    "4. 특정 threshold를 기준으로 데이터 줄이기\n",
    "5. gameTime에서 Min, Sec을 추출하여 정렬하기\n",
    "\n",
    "#### 여기서 58분 31초는 받은 데이터 기준으로 더한 것입니다.( prediction의 \"1-\" 데이터만 보라하셨는데, 이렇게 보는게 데이터가 더 커서 좋을 것 같아 이렇게 진행했습니다)."
   ]
  },
  {
   "cell_type": "code",
   "execution_count": 3,
   "metadata": {},
   "outputs": [
    {
     "name": "stderr",
     "output_type": "stream",
     "text": [
      "C:\\Users\\user\\AppData\\Local\\Temp\\ipykernel_19964\\701026716.py:22: SettingWithCopyWarning: \n",
      "A value is trying to be set on a copy of a slice from a DataFrame\n",
      "\n",
      "See the caveats in the documentation: https://pandas.pydata.org/pandas-docs/stable/user_guide/indexing.html#returning-a-view-versus-a-copy\n",
      "  df['MIN'][i] += 58\n",
      "C:\\Users\\user\\AppData\\Local\\Temp\\ipykernel_19964\\701026716.py:23: SettingWithCopyWarning: \n",
      "A value is trying to be set on a copy of a slice from a DataFrame\n",
      "\n",
      "See the caveats in the documentation: https://pandas.pydata.org/pandas-docs/stable/user_guide/indexing.html#returning-a-view-versus-a-copy\n",
      "  df['SEC'][i] += 31\n"
     ]
    },
    {
     "data": {
      "text/html": [
       "<div>\n",
       "<style scoped>\n",
       "    .dataframe tbody tr th:only-of-type {\n",
       "        vertical-align: middle;\n",
       "    }\n",
       "\n",
       "    .dataframe tbody tr th {\n",
       "        vertical-align: top;\n",
       "    }\n",
       "\n",
       "    .dataframe thead th {\n",
       "        text-align: right;\n",
       "    }\n",
       "</style>\n",
       "<table border=\"1\" class=\"dataframe\">\n",
       "  <thead>\n",
       "    <tr style=\"text-align: right;\">\n",
       "      <th></th>\n",
       "      <th>gameTime</th>\n",
       "      <th>label</th>\n",
       "      <th>confidence</th>\n",
       "      <th>half</th>\n",
       "      <th>MIN</th>\n",
       "      <th>SEC</th>\n",
       "    </tr>\n",
       "  </thead>\n",
       "  <tbody>\n",
       "    <tr>\n",
       "      <th>0</th>\n",
       "      <td>0:14</td>\n",
       "      <td>Corner</td>\n",
       "      <td>0.896660</td>\n",
       "      <td>1</td>\n",
       "      <td>0</td>\n",
       "      <td>14</td>\n",
       "    </tr>\n",
       "    <tr>\n",
       "      <th>1</th>\n",
       "      <td>0:16</td>\n",
       "      <td>Ball out of play</td>\n",
       "      <td>0.550042</td>\n",
       "      <td>1</td>\n",
       "      <td>0</td>\n",
       "      <td>16</td>\n",
       "    </tr>\n",
       "    <tr>\n",
       "      <th>2</th>\n",
       "      <td>0:31</td>\n",
       "      <td>Kick-off</td>\n",
       "      <td>0.757758</td>\n",
       "      <td>1</td>\n",
       "      <td>0</td>\n",
       "      <td>31</td>\n",
       "    </tr>\n",
       "    <tr>\n",
       "      <th>3</th>\n",
       "      <td>1:20</td>\n",
       "      <td>Substitution</td>\n",
       "      <td>0.551063</td>\n",
       "      <td>1</td>\n",
       "      <td>1</td>\n",
       "      <td>20</td>\n",
       "    </tr>\n",
       "    <tr>\n",
       "      <th>4</th>\n",
       "      <td>2:14</td>\n",
       "      <td>Substitution</td>\n",
       "      <td>0.514771</td>\n",
       "      <td>1</td>\n",
       "      <td>2</td>\n",
       "      <td>14</td>\n",
       "    </tr>\n",
       "    <tr>\n",
       "      <th>...</th>\n",
       "      <td>...</td>\n",
       "      <td>...</td>\n",
       "      <td>...</td>\n",
       "      <td>...</td>\n",
       "      <td>...</td>\n",
       "      <td>...</td>\n",
       "    </tr>\n",
       "    <tr>\n",
       "      <th>416</th>\n",
       "      <td>58:4</td>\n",
       "      <td>Corner</td>\n",
       "      <td>0.937923</td>\n",
       "      <td>2</td>\n",
       "      <td>116</td>\n",
       "      <td>35</td>\n",
       "    </tr>\n",
       "    <tr>\n",
       "      <th>417</th>\n",
       "      <td>58:5</td>\n",
       "      <td>Goal</td>\n",
       "      <td>0.880127</td>\n",
       "      <td>2</td>\n",
       "      <td>116</td>\n",
       "      <td>36</td>\n",
       "    </tr>\n",
       "    <tr>\n",
       "      <th>418</th>\n",
       "      <td>58:21</td>\n",
       "      <td>Goal</td>\n",
       "      <td>0.537783</td>\n",
       "      <td>2</td>\n",
       "      <td>116</td>\n",
       "      <td>52</td>\n",
       "    </tr>\n",
       "    <tr>\n",
       "      <th>419</th>\n",
       "      <td>58:32</td>\n",
       "      <td>Kick-off</td>\n",
       "      <td>0.940929</td>\n",
       "      <td>2</td>\n",
       "      <td>116</td>\n",
       "      <td>63</td>\n",
       "    </tr>\n",
       "    <tr>\n",
       "      <th>420</th>\n",
       "      <td>58:32</td>\n",
       "      <td>Substitution</td>\n",
       "      <td>0.642120</td>\n",
       "      <td>2</td>\n",
       "      <td>116</td>\n",
       "      <td>63</td>\n",
       "    </tr>\n",
       "  </tbody>\n",
       "</table>\n",
       "<p>421 rows × 6 columns</p>\n",
       "</div>"
      ],
      "text/plain": [
       "    gameTime             label  confidence half  MIN  SEC\n",
       "0       0:14            Corner    0.896660    1    0   14\n",
       "1       0:16  Ball out of play    0.550042    1    0   16\n",
       "2       0:31          Kick-off    0.757758    1    0   31\n",
       "3       1:20      Substitution    0.551063    1    1   20\n",
       "4       2:14      Substitution    0.514771    1    2   14\n",
       "..       ...               ...         ...  ...  ...  ...\n",
       "416     58:4            Corner    0.937923    2  116   35\n",
       "417     58:5              Goal    0.880127    2  116   36\n",
       "418    58:21              Goal    0.537783    2  116   52\n",
       "419    58:32          Kick-off    0.940929    2  116   63\n",
       "420    58:32      Substitution    0.642120    2  116   63\n",
       "\n",
       "[421 rows x 6 columns]"
      ]
     },
     "execution_count": 3,
     "metadata": {},
     "output_type": "execute_result"
    }
   ],
   "source": [
    "confidence_threshold = 0.5\n",
    "\n",
    "\n",
    "with open(\"C:\\\\Users\\\\user\\\\Desktop\\\\Jupyter\\\\TASK1_Confusion_matrix\\\\input\\\\prediction.json\", \"r\", encoding=\"utf8\") as f:\n",
    "    contents = f.read() # string 타입\n",
    "    json_data = json.loads(contents)\n",
    "df = json_normalize(json_data['predictions'])  # json파일 -> dataframe에 넣기\n",
    "df = df.loc[:, ['gameTime', 'label', 'confidence', 'half']]   # 내가 원하는 데이터만 추출\n",
    "df['gameTime'] = df.gameTime.str.split(' - ').str[1]  # 1 - , 2 - 와 같은 데이터 삭제\n",
    "df['confidence'] = df['confidence'].astype(float)     # 내가 원하는 퍼센트 이상만 받기 위해 float형으로 변환\n",
    "index_drop = df[df['confidence'] <= confidence_threshold].index         # 특정 값 이하 삭제의 index 모으기\n",
    "df.drop(index_drop, inplace=True)                       # 해당 index 삭제\n",
    "\n",
    "df['MIN'] = df.gameTime.str.split(':').str[0]  # gameTime에서 분 추출\n",
    "df['MIN'] = pd.to_numeric(df['MIN'])\n",
    "df['SEC'] = df.gameTime.str.split(':').str[1]  # gameTime에서 초 추출\n",
    "df['SEC'] = pd.to_numeric(df['SEC'])\n",
    "\n",
    "# predict \"1 - \"의 분, 초가 58분 31초에서 끊겨서 \"2 - \"에는 해당 숫자만큼 더하여 진행\n",
    "for i in df.index :\n",
    "    if df['half'][i] == \"2\" :\n",
    "        df['MIN'][i] += 58\n",
    "        df['SEC'][i] += 31\n",
    "\n",
    "\n",
    "df_json_data_prediction = df.sort_values(by = ['MIN', 'SEC']) # gameTime을 기준으로 정렬\n",
    "df_json_data_prediction = df_json_data_prediction.reset_index(drop=True) # 인덱스 재설정\n",
    "\n",
    "df_json_data_prediction # 출력"
   ]
  },
  {
   "cell_type": "markdown",
   "metadata": {},
   "source": [
    "시간 비교를 위해 df_json_data_groun_truth, df_json_data_prediction의 Game time을 지우고 MIN * 60 + Second로 Time label 추가."
   ]
  },
  {
   "cell_type": "code",
   "execution_count": 4,
   "metadata": {},
   "outputs": [],
   "source": [
    "df_json_data_groun_truth['MIN'] = df_json_data_groun_truth.gameTime.str.split(':').str[0]  # gameTime에서 분 추출\n",
    "df_json_data_groun_truth['MIN'] = pd.to_numeric(df_json_data_groun_truth['MIN'])\n",
    "df_json_data_groun_truth['SEC'] = df_json_data_groun_truth.gameTime.str.split(':').str[1]  # gameTime에서 초 추출\n",
    "df_json_data_groun_truth['SEC'] = pd.to_numeric(df_json_data_groun_truth['SEC'])"
   ]
  },
  {
   "cell_type": "code",
   "execution_count": 5,
   "metadata": {},
   "outputs": [
    {
     "data": {
      "text/html": [
       "<div>\n",
       "<style scoped>\n",
       "    .dataframe tbody tr th:only-of-type {\n",
       "        vertical-align: middle;\n",
       "    }\n",
       "\n",
       "    .dataframe tbody tr th {\n",
       "        vertical-align: top;\n",
       "    }\n",
       "\n",
       "    .dataframe thead th {\n",
       "        text-align: right;\n",
       "    }\n",
       "</style>\n",
       "<table border=\"1\" class=\"dataframe\">\n",
       "  <thead>\n",
       "    <tr style=\"text-align: right;\">\n",
       "      <th></th>\n",
       "      <th>label</th>\n",
       "      <th>Time</th>\n",
       "    </tr>\n",
       "  </thead>\n",
       "  <tbody>\n",
       "    <tr>\n",
       "      <th>0</th>\n",
       "      <td>Corner</td>\n",
       "      <td>14</td>\n",
       "    </tr>\n",
       "    <tr>\n",
       "      <th>1</th>\n",
       "      <td>Ball out of play</td>\n",
       "      <td>16</td>\n",
       "    </tr>\n",
       "    <tr>\n",
       "      <th>2</th>\n",
       "      <td>Kick-off</td>\n",
       "      <td>31</td>\n",
       "    </tr>\n",
       "    <tr>\n",
       "      <th>3</th>\n",
       "      <td>Substitution</td>\n",
       "      <td>80</td>\n",
       "    </tr>\n",
       "    <tr>\n",
       "      <th>4</th>\n",
       "      <td>Substitution</td>\n",
       "      <td>134</td>\n",
       "    </tr>\n",
       "    <tr>\n",
       "      <th>...</th>\n",
       "      <td>...</td>\n",
       "      <td>...</td>\n",
       "    </tr>\n",
       "    <tr>\n",
       "      <th>416</th>\n",
       "      <td>Corner</td>\n",
       "      <td>6995</td>\n",
       "    </tr>\n",
       "    <tr>\n",
       "      <th>417</th>\n",
       "      <td>Goal</td>\n",
       "      <td>6996</td>\n",
       "    </tr>\n",
       "    <tr>\n",
       "      <th>418</th>\n",
       "      <td>Goal</td>\n",
       "      <td>7012</td>\n",
       "    </tr>\n",
       "    <tr>\n",
       "      <th>419</th>\n",
       "      <td>Kick-off</td>\n",
       "      <td>7023</td>\n",
       "    </tr>\n",
       "    <tr>\n",
       "      <th>420</th>\n",
       "      <td>Substitution</td>\n",
       "      <td>7023</td>\n",
       "    </tr>\n",
       "  </tbody>\n",
       "</table>\n",
       "<p>421 rows × 2 columns</p>\n",
       "</div>"
      ],
      "text/plain": [
       "                label  Time\n",
       "0              Corner    14\n",
       "1    Ball out of play    16\n",
       "2            Kick-off    31\n",
       "3        Substitution    80\n",
       "4        Substitution   134\n",
       "..                ...   ...\n",
       "416            Corner  6995\n",
       "417              Goal  6996\n",
       "418              Goal  7012\n",
       "419          Kick-off  7023\n",
       "420      Substitution  7023\n",
       "\n",
       "[421 rows x 2 columns]"
      ]
     },
     "execution_count": 5,
     "metadata": {},
     "output_type": "execute_result"
    }
   ],
   "source": [
    "df_json_data_groun_truth['Time'] = df_json_data_groun_truth['MIN']*60 + df_json_data_groun_truth['SEC']\n",
    "df_json_data_groun_truth.drop(['gameTime', 'MIN', 'SEC'], axis=1, inplace=True)\n",
    "\n",
    "df_json_data_prediction['Time'] = df_json_data_prediction['MIN']*60 + df_json_data_prediction['SEC']\n",
    "df_json_data_prediction.drop(['gameTime', 'MIN', 'SEC', 'half', 'confidence'], axis=1, inplace=True)\n",
    "\n",
    "df_json_data_prediction"
   ]
  },
  {
   "cell_type": "markdown",
   "metadata": {},
   "source": [
    "## confusion matrix\n",
    "참고자료\n",
    "\n",
    "1. https://panython.tistory.com/20\n",
    "\n",
    "2. http://datascienceschool.net/03%20machine%20learning/09.04%20%EB%B6%84%EB%A5%98%20%EC%84%B1%EB%8A%A5%ED%8F%89%EA%B0%80.html"
   ]
  },
  {
   "cell_type": "code",
   "execution_count": 6,
   "metadata": {},
   "outputs": [],
   "source": [
    "# confusion matrix 사용을 위한 라이브러리\n",
    "from sklearn.metrics import confusion_matrix\n",
    "from mlxtend.plotting import plot_confusion_matrix\n",
    "import matplotlib\n",
    "\n",
    "import matplotlib.pyplot as plt\n",
    "import numpy as np"
   ]
  },
  {
   "cell_type": "markdown",
   "metadata": {},
   "source": [
    "#### Counting\n",
    "    인풋 :1. df_json_data_groun_truth -> game_time, label이 있는 dataframe\n",
    "          2. df_json_data_prediction  -> game_time, label이 있는 dataframe\n",
    "          나머지 데이터는 여기부터 필요 X\n",
    "          \n",
    "    아웃풋 : cmat에 숫자를 추가한 것"
   ]
  },
  {
   "cell_type": "code",
   "execution_count": 7,
   "metadata": {},
   "outputs": [],
   "source": [
    "class_dict = {0 : 'Ball out of play',\n",
    "              1 : 'Throw-in',\n",
    "              2 : 'Foul',\n",
    "              3 : 'Indirect free-kick',\n",
    "              4 : 'Clearance',\n",
    "              5 : 'Shots on target',\n",
    "              6 : 'Shots off target',\n",
    "              7 : 'Corner',\n",
    "              8 : 'Substitution',\n",
    "              9 : 'Kick-off',\n",
    "              10 : 'Yellow card',\n",
    "              11 : 'Offside',\n",
    "              12 : 'Direct free-kick',\n",
    "              13 : 'Goal',\n",
    "              14 : 'Penalty',\n",
    "              15 : 'Red card',\n",
    "              16 : 'Start of game',\n",
    "              17 : 'End of game',\n",
    "              18 : 'Start of replay',\n",
    "              19 : 'End of replay',\n",
    "              20 : 'Yellow card -> red card',\n",
    "              21 : 'Other'}"
   ]
  },
  {
   "cell_type": "code",
   "execution_count": 8,
   "metadata": {
    "scrolled": true
   },
   "outputs": [],
   "source": [
    "class_dict = dict(map(reversed,class_dict.items()))"
   ]
  },
  {
   "cell_type": "code",
   "execution_count": 9,
   "metadata": {},
   "outputs": [
    {
     "data": {
      "text/plain": [
       "{'Ball out of play': 0,\n",
       " 'Throw-in': 1,\n",
       " 'Foul': 2,\n",
       " 'Indirect free-kick': 3,\n",
       " 'Clearance': 4,\n",
       " 'Shots on target': 5,\n",
       " 'Shots off target': 6,\n",
       " 'Corner': 7,\n",
       " 'Substitution': 8,\n",
       " 'Kick-off': 9,\n",
       " 'Yellow card': 10,\n",
       " 'Offside': 11,\n",
       " 'Direct free-kick': 12,\n",
       " 'Goal': 13,\n",
       " 'Penalty': 14,\n",
       " 'Red card': 15,\n",
       " 'Start of game': 16,\n",
       " 'End of game': 17,\n",
       " 'Start of replay': 18,\n",
       " 'End of replay': 19,\n",
       " 'Yellow card -> red card': 20,\n",
       " 'Other': 21}"
      ]
     },
     "execution_count": 9,
     "metadata": {},
     "output_type": "execute_result"
    }
   ],
   "source": [
    "class_dict"
   ]
  },
  {
   "cell_type": "code",
   "execution_count": 10,
   "metadata": {},
   "outputs": [
    {
     "data": {
      "text/plain": [
       "array([[0, 0, 0, 0, 0, 0, 0, 0, 0, 0, 0, 0, 0, 0, 0, 0, 0, 0, 0, 0, 0, 0],\n",
       "       [0, 0, 0, 0, 0, 0, 0, 0, 0, 0, 0, 0, 0, 0, 0, 0, 0, 0, 0, 0, 0, 0],\n",
       "       [0, 0, 0, 0, 0, 0, 0, 0, 0, 0, 0, 0, 0, 0, 0, 0, 0, 0, 0, 0, 0, 0],\n",
       "       [0, 0, 0, 0, 0, 0, 0, 0, 0, 0, 0, 0, 0, 0, 0, 0, 0, 0, 0, 0, 0, 0],\n",
       "       [0, 0, 0, 0, 0, 0, 0, 0, 0, 0, 0, 0, 0, 0, 0, 0, 0, 0, 0, 0, 0, 0],\n",
       "       [0, 0, 0, 0, 0, 0, 0, 0, 0, 0, 0, 0, 0, 0, 0, 0, 0, 0, 0, 0, 0, 0],\n",
       "       [0, 0, 0, 0, 0, 0, 0, 0, 0, 0, 0, 0, 0, 0, 0, 0, 0, 0, 0, 0, 0, 0],\n",
       "       [0, 0, 0, 0, 0, 0, 0, 0, 0, 0, 0, 0, 0, 0, 0, 0, 0, 0, 0, 0, 0, 0],\n",
       "       [0, 0, 0, 0, 0, 0, 0, 0, 0, 0, 0, 0, 0, 0, 0, 0, 0, 0, 0, 0, 0, 0],\n",
       "       [0, 0, 0, 0, 0, 0, 0, 0, 0, 0, 0, 0, 0, 0, 0, 0, 0, 0, 0, 0, 0, 0],\n",
       "       [0, 0, 0, 0, 0, 0, 0, 0, 0, 0, 0, 0, 0, 0, 0, 0, 0, 0, 0, 0, 0, 0],\n",
       "       [0, 0, 0, 0, 0, 0, 0, 0, 0, 0, 0, 0, 0, 0, 0, 0, 0, 0, 0, 0, 0, 0],\n",
       "       [0, 0, 0, 0, 0, 0, 0, 0, 0, 0, 0, 0, 0, 0, 0, 0, 0, 0, 0, 0, 0, 0],\n",
       "       [0, 0, 0, 0, 0, 0, 0, 0, 0, 0, 0, 0, 0, 0, 0, 0, 0, 0, 0, 0, 0, 0],\n",
       "       [0, 0, 0, 0, 0, 0, 0, 0, 0, 0, 0, 0, 0, 0, 0, 0, 0, 0, 0, 0, 0, 0],\n",
       "       [0, 0, 0, 0, 0, 0, 0, 0, 0, 0, 0, 0, 0, 0, 0, 0, 0, 0, 0, 0, 0, 0],\n",
       "       [0, 0, 0, 0, 0, 0, 0, 0, 0, 0, 0, 0, 0, 0, 0, 0, 0, 0, 0, 0, 0, 0],\n",
       "       [0, 0, 0, 0, 0, 0, 0, 0, 0, 0, 0, 0, 0, 0, 0, 0, 0, 0, 0, 0, 0, 0],\n",
       "       [0, 0, 0, 0, 0, 0, 0, 0, 0, 0, 0, 0, 0, 0, 0, 0, 0, 0, 0, 0, 0, 0],\n",
       "       [0, 0, 0, 0, 0, 0, 0, 0, 0, 0, 0, 0, 0, 0, 0, 0, 0, 0, 0, 0, 0, 0],\n",
       "       [0, 0, 0, 0, 0, 0, 0, 0, 0, 0, 0, 0, 0, 0, 0, 0, 0, 0, 0, 0, 0, 0],\n",
       "       [0, 0, 0, 0, 0, 0, 0, 0, 0, 0, 0, 0, 0, 0, 0, 0, 0, 0, 0, 0, 0, 0]])"
      ]
     },
     "execution_count": 10,
     "metadata": {},
     "output_type": "execute_result"
    }
   ],
   "source": [
    "cmat = np.array([0]*len(class_dict)*len(class_dict)).reshape((len(class_dict), len(class_dict)))\n",
    "cmat"
   ]
  },
  {
   "cell_type": "code",
   "execution_count": 11,
   "metadata": {},
   "outputs": [
    {
     "data": {
      "text/plain": [
       "array([0, 0, 0, 0, 0, 0, 0, 0, 0, 0, 0, 0, 0, 0, 0, 0, 0, 0, 0, 0, 0, 0])"
      ]
     },
     "execution_count": 11,
     "metadata": {},
     "output_type": "execute_result"
    }
   ],
   "source": [
    "total_predict_lable_num = np.array([0]*len(class_dict)).reshape(len(class_dict))\n",
    "total_GT_lable_num = np.array([0]*len(class_dict)).reshape(len(class_dict))\n",
    "total_predict_lable_num"
   ]
  },
  {
   "cell_type": "code",
   "execution_count": 12,
   "metadata": {},
   "outputs": [],
   "source": [
    "for i in df_json_data_prediction.index:\n",
    "    position = class_dict.get(df_json_data_prediction[\"label\"][i])\n",
    "    total_predict_lable_num[position] += 1\n",
    "#     idx = class_dict.items(df_json_data_prediction[\"label\"][i])\n",
    "# value값으로 key값 찾아서 total_predict_lable_num[label key]에 ++ 해서 저 밑에서 dataFrame에 저장"
   ]
  },
  {
   "cell_type": "code",
   "execution_count": 13,
   "metadata": {},
   "outputs": [],
   "source": [
    "for i in df_json_data_groun_truth.index:\n",
    "    position = class_dict.get(df_json_data_groun_truth[\"label\"][i])\n",
    "    total_GT_lable_num[position] += 1"
   ]
  },
  {
   "cell_type": "code",
   "execution_count": 14,
   "metadata": {},
   "outputs": [
    {
     "data": {
      "text/plain": [
       "array([ 76,  11,   1,   0,  26,  13,   1,  24,  57, 183,   1,   0,   1,\n",
       "        27,   0,   0,   0,   0,   0,   0,   0,   0])"
      ]
     },
     "execution_count": 14,
     "metadata": {},
     "output_type": "execute_result"
    }
   ],
   "source": [
    "total_predict_lable_num"
   ]
  },
  {
   "cell_type": "code",
   "execution_count": 15,
   "metadata": {},
   "outputs": [
    {
     "data": {
      "text/plain": [
       "array([77, 42, 22, 20, 15,  1,  0, 12,  9,  4,  3,  6,  2, 38,  0,  0,  2,\n",
       "        2, 44, 43,  0,  1])"
      ]
     },
     "execution_count": 15,
     "metadata": {},
     "output_type": "execute_result"
    }
   ],
   "source": [
    "total_GT_lable_num"
   ]
  },
  {
   "cell_type": "markdown",
   "metadata": {},
   "source": [
    "### confusion matrix에 counting하기"
   ]
  },
  {
   "cell_type": "code",
   "execution_count": 16,
   "metadata": {
    "scrolled": true
   },
   "outputs": [],
   "source": [
    "time_interval_threshold = 5\n",
    "\n",
    "for i in df_json_data_groun_truth.index:\n",
    "    index = 0\n",
    "    matching = False\n",
    "    \n",
    "    for j in df_json_data_prediction.index:\n",
    "        temp = df_json_data_groun_truth[\"Time\"][i] - df_json_data_prediction[\"Time\"][j]\n",
    "        if temp > time_interval_threshold :\n",
    "            continue\n",
    "            \n",
    "        elif temp < -1 * time_interval_threshold :\n",
    "            break\n",
    "            \n",
    "        else : # 시간 차가 양 쪽의 threshold 안에 있다면 == margin 안에 있을 때\n",
    "            if df_json_data_groun_truth[\"label\"][i] == df_json_data_prediction[\"label\"][j] :\n",
    "                matching = True\n",
    "                index = j\n",
    "                break\n",
    "    \n",
    "    if not matching :\n",
    "        min_time_diff = abs(df_json_data_groun_truth[\"Time\"][i] - df_json_data_prediction[\"Time\"][0])\n",
    "        for j in df_json_data_prediction.index:\n",
    "            temp = abs(df_json_data_groun_truth[\"Time\"][i] - df_json_data_prediction[\"Time\"][j])\n",
    "            if min_time_diff >= temp:\n",
    "                min_time_diff = temp\n",
    "                index = j\n",
    "                matching = True\n",
    "\n",
    "\n",
    "    x = class_dict.get(df_json_data_groun_truth[\"label\"][i])\n",
    "    y = class_dict.get(df_json_data_prediction[\"label\"][index])\n",
    "    if matching :\n",
    "        cmat[x,y] += 1"
   ]
  },
  {
   "cell_type": "code",
   "execution_count": 17,
   "metadata": {},
   "outputs": [
    {
     "name": "stdout",
     "output_type": "stream",
     "text": [
      "343\n"
     ]
    }
   ],
   "source": [
    "print(np.sum(cmat))"
   ]
  },
  {
   "cell_type": "code",
   "execution_count": 18,
   "metadata": {
    "scrolled": false
   },
   "outputs": [
    {
     "name": "stdout",
     "output_type": "stream",
     "text": [
      "[[45  2  1  0  2  3  0  0  1 19  0  0  0  4  0  0  0  0  0  0  0  0]\n",
      " [10  9  0  0  4  0  0  1  0 17  0  0  0  1  0  0  0  0  0  0  0  0]\n",
      " [ 8  0  0  0  0  0  0  0  1 11  1  0  0  1  0  0  0  0  0  0  0  0]\n",
      " [ 5  0  0  0  0  0  0  2  0 13  0  0  0  0  0  0  0  0  0  0  0  0]\n",
      " [ 1  0  0  0  5  0  0  0  1  8  0  0  0  0  0  0  0  0  0  0  0  0]\n",
      " [ 0  0  0  0  0  0  0  1  0  0  0  0  0  0  0  0  0  0  0  0  0  0]\n",
      " [ 0  0  0  0  0  0  0  0  0  0  0  0  0  0  0  0  0  0  0  0  0  0]\n",
      " [ 0  0  0  0  0  0  0 10  0  0  0  0  0  2  0  0  0  0  0  0  0  0]\n",
      " [ 0  0  0  0  0  0  0  0  3  5  0  0  0  1  0  0  0  0  0  0  0  0]\n",
      " [ 0  0  0  0  1  0  0  0  0  3  0  0  0  0  0  0  0  0  0  0  0  0]\n",
      " [ 0  0  0  0  0  0  0  0  1  1  1  0  0  0  0  0  0  0  0  0  0  0]\n",
      " [ 3  0  0  0  0  0  0  0  0  3  0  0  0  0  0  0  0  0  0  0  0  0]\n",
      " [ 0  0  0  0  0  0  0  0  0  1  0  0  0  1  0  0  0  0  0  0  0  0]\n",
      " [ 2  0  0  0  0  0  0  0  6 23  0  0  0  7  0  0  0  0  0  0  0  0]\n",
      " [ 0  0  0  0  0  0  0  0  0  0  0  0  0  0  0  0  0  0  0  0  0  0]\n",
      " [ 0  0  0  0  0  0  0  0  0  0  0  0  0  0  0  0  0  0  0  0  0  0]\n",
      " [ 0  0  0  0  0  0  0  0  0  2  0  0  0  0  0  0  0  0  0  0  0  0]\n",
      " [ 0  0  0  0  1  0  0  0  0  1  0  0  0  0  0  0  0  0  0  0  0  0]\n",
      " [11  0  0  0  1  1  0  3  3 24  0  0  0  1  0  0  0  0  0  0  0  0]\n",
      " [ 3  0  0  0  4  0  0  3  7 26  0  0  0  0  0  0  0  0  0  0  0  0]\n",
      " [ 0  0  0  0  0  0  0  0  0  0  0  0  0  0  0  0  0  0  0  0  0  0]\n",
      " [ 0  0  0  0  0  0  0  1  0  0  0  0  0  0  0  0  0  0  0  0  0  0]]\n"
     ]
    }
   ],
   "source": [
    "print(cmat)"
   ]
  },
  {
   "cell_type": "code",
   "execution_count": 19,
   "metadata": {},
   "outputs": [
    {
     "name": "stderr",
     "output_type": "stream",
     "text": [
      "C:\\Users\\user\\AppData\\Roaming\\Python\\Python39\\site-packages\\mlxtend\\plotting\\plot_confusion_matrix.py:102: RuntimeWarning: invalid value encountered in true_divide\n",
      "  normed_conf_mat = conf_mat.astype(\"float\") / total_samples\n"
     ]
    },
    {
     "data": {
      "image/png": "[encoded data removed]",
      "text/plain": [
       "<Figure size 720x720 with 1 Axes>"
      ]
     },
     "metadata": {
      "needs_background": "light"
     },
     "output_type": "display_data"
    }
   ],
   "source": [
    "fig, ax = plot_confusion_matrix(\n",
    "    conf_mat=cmat, figsize = (10, 10),\n",
    "    class_names=class_dict.keys(),\n",
    "    norm_colormap=matplotlib.colors.LogNorm()  \n",
    ")"
   ]
  },
  {
   "cell_type": "markdown",
   "metadata": {},
   "source": [
    "## Precision, recall 구하기"
   ]
  },
  {
   "cell_type": "markdown",
   "metadata": {},
   "source": [
    "## label 별 FP, FN , ... 구하기"
   ]
  },
  {
   "cell_type": "code",
   "execution_count": 20,
   "metadata": {},
   "outputs": [],
   "source": [
    "sum_total = np.sum(cmat)\n",
    "class_dict = dict(map(reversed,class_dict.items()))"
   ]
  },
  {
   "cell_type": "code",
   "execution_count": 21,
   "metadata": {},
   "outputs": [],
   "source": [
    "columns = [\"label name\",\"TP\", \"FN\", \"FP\", \"TN\"]\n",
    "lable_score = pd.DataFrame(columns=columns)"
   ]
  },
  {
   "cell_type": "code",
   "execution_count": 22,
   "metadata": {},
   "outputs": [],
   "source": [
    "sum_column = np.array(cmat.sum(axis=0))\n",
    "\n",
    "for idx in range(0, len(class_dict)):\n",
    "    TP = 0\n",
    "    FN = 0\n",
    "    for idx_x, value_x in enumerate(cmat[idx]):\n",
    "        if idx_x == idx :\n",
    "            TP = value_x\n",
    "        else:\n",
    "            FN += value_x\n",
    "\n",
    "    FP = sum_column[idx] - TP\n",
    "    TN = sum_total - TP - FN - FP\n",
    "    lable_score.loc[idx] = [class_dict.get(idx), TP, FN, FP, TN]\n",
    "\n",
    "\n",
    "# dataFrame 완성"
   ]
  },
  {
   "cell_type": "markdown",
   "metadata": {},
   "source": [
    "## precision, recall 계산"
   ]
  },
  {
   "cell_type": "code",
   "execution_count": 23,
   "metadata": {},
   "outputs": [],
   "source": [
    "lable_score[\"Precision\"] = lable_score[\"TP\"] / total_predict_lable_num\n",
    "lable_score[\"Recall\"] = lable_score[\"TP\"] / total_GT_lable_num"
   ]
  },
  {
   "cell_type": "code",
   "execution_count": 24,
   "metadata": {
    "scrolled": false
   },
   "outputs": [
    {
     "data": {
      "text/html": [
       "<div>\n",
       "<style scoped>\n",
       "    .dataframe tbody tr th:only-of-type {\n",
       "        vertical-align: middle;\n",
       "    }\n",
       "\n",
       "    .dataframe tbody tr th {\n",
       "        vertical-align: top;\n",
       "    }\n",
       "\n",
       "    .dataframe thead th {\n",
       "        text-align: right;\n",
       "    }\n",
       "</style>\n",
       "<table border=\"1\" class=\"dataframe\">\n",
       "  <thead>\n",
       "    <tr style=\"text-align: right;\">\n",
       "      <th></th>\n",
       "      <th>label name</th>\n",
       "      <th>TP</th>\n",
       "      <th>FN</th>\n",
       "      <th>FP</th>\n",
       "      <th>TN</th>\n",
       "      <th>Precision</th>\n",
       "      <th>Recall</th>\n",
       "    </tr>\n",
       "  </thead>\n",
       "  <tbody>\n",
       "    <tr>\n",
       "      <th>0</th>\n",
       "      <td>Ball out of play</td>\n",
       "      <td>45</td>\n",
       "      <td>32</td>\n",
       "      <td>43</td>\n",
       "      <td>223</td>\n",
       "      <td>0.592105</td>\n",
       "      <td>0.584416</td>\n",
       "    </tr>\n",
       "    <tr>\n",
       "      <th>1</th>\n",
       "      <td>Throw-in</td>\n",
       "      <td>9</td>\n",
       "      <td>33</td>\n",
       "      <td>2</td>\n",
       "      <td>299</td>\n",
       "      <td>0.818182</td>\n",
       "      <td>0.214286</td>\n",
       "    </tr>\n",
       "    <tr>\n",
       "      <th>2</th>\n",
       "      <td>Foul</td>\n",
       "      <td>0</td>\n",
       "      <td>22</td>\n",
       "      <td>1</td>\n",
       "      <td>320</td>\n",
       "      <td>0.000000</td>\n",
       "      <td>0.000000</td>\n",
       "    </tr>\n",
       "    <tr>\n",
       "      <th>3</th>\n",
       "      <td>Indirect free-kick</td>\n",
       "      <td>0</td>\n",
       "      <td>20</td>\n",
       "      <td>0</td>\n",
       "      <td>323</td>\n",
       "      <td>NaN</td>\n",
       "      <td>0.000000</td>\n",
       "    </tr>\n",
       "    <tr>\n",
       "      <th>4</th>\n",
       "      <td>Clearance</td>\n",
       "      <td>5</td>\n",
       "      <td>10</td>\n",
       "      <td>13</td>\n",
       "      <td>315</td>\n",
       "      <td>0.192308</td>\n",
       "      <td>0.333333</td>\n",
       "    </tr>\n",
       "    <tr>\n",
       "      <th>5</th>\n",
       "      <td>Shots on target</td>\n",
       "      <td>0</td>\n",
       "      <td>1</td>\n",
       "      <td>4</td>\n",
       "      <td>338</td>\n",
       "      <td>0.000000</td>\n",
       "      <td>0.000000</td>\n",
       "    </tr>\n",
       "    <tr>\n",
       "      <th>6</th>\n",
       "      <td>Shots off target</td>\n",
       "      <td>0</td>\n",
       "      <td>0</td>\n",
       "      <td>0</td>\n",
       "      <td>343</td>\n",
       "      <td>0.000000</td>\n",
       "      <td>NaN</td>\n",
       "    </tr>\n",
       "    <tr>\n",
       "      <th>7</th>\n",
       "      <td>Corner</td>\n",
       "      <td>10</td>\n",
       "      <td>2</td>\n",
       "      <td>11</td>\n",
       "      <td>320</td>\n",
       "      <td>0.416667</td>\n",
       "      <td>0.833333</td>\n",
       "    </tr>\n",
       "    <tr>\n",
       "      <th>8</th>\n",
       "      <td>Substitution</td>\n",
       "      <td>3</td>\n",
       "      <td>6</td>\n",
       "      <td>20</td>\n",
       "      <td>314</td>\n",
       "      <td>0.052632</td>\n",
       "      <td>0.333333</td>\n",
       "    </tr>\n",
       "    <tr>\n",
       "      <th>9</th>\n",
       "      <td>Kick-off</td>\n",
       "      <td>3</td>\n",
       "      <td>1</td>\n",
       "      <td>154</td>\n",
       "      <td>185</td>\n",
       "      <td>0.016393</td>\n",
       "      <td>0.750000</td>\n",
       "    </tr>\n",
       "    <tr>\n",
       "      <th>10</th>\n",
       "      <td>Yellow card</td>\n",
       "      <td>1</td>\n",
       "      <td>2</td>\n",
       "      <td>1</td>\n",
       "      <td>339</td>\n",
       "      <td>1.000000</td>\n",
       "      <td>0.333333</td>\n",
       "    </tr>\n",
       "    <tr>\n",
       "      <th>11</th>\n",
       "      <td>Offside</td>\n",
       "      <td>0</td>\n",
       "      <td>6</td>\n",
       "      <td>0</td>\n",
       "      <td>337</td>\n",
       "      <td>NaN</td>\n",
       "      <td>0.000000</td>\n",
       "    </tr>\n",
       "    <tr>\n",
       "      <th>12</th>\n",
       "      <td>Direct free-kick</td>\n",
       "      <td>0</td>\n",
       "      <td>2</td>\n",
       "      <td>0</td>\n",
       "      <td>341</td>\n",
       "      <td>0.000000</td>\n",
       "      <td>0.000000</td>\n",
       "    </tr>\n",
       "    <tr>\n",
       "      <th>13</th>\n",
       "      <td>Goal</td>\n",
       "      <td>7</td>\n",
       "      <td>31</td>\n",
       "      <td>11</td>\n",
       "      <td>294</td>\n",
       "      <td>0.259259</td>\n",
       "      <td>0.184211</td>\n",
       "    </tr>\n",
       "    <tr>\n",
       "      <th>14</th>\n",
       "      <td>Penalty</td>\n",
       "      <td>0</td>\n",
       "      <td>0</td>\n",
       "      <td>0</td>\n",
       "      <td>343</td>\n",
       "      <td>NaN</td>\n",
       "      <td>NaN</td>\n",
       "    </tr>\n",
       "    <tr>\n",
       "      <th>15</th>\n",
       "      <td>Red card</td>\n",
       "      <td>0</td>\n",
       "      <td>0</td>\n",
       "      <td>0</td>\n",
       "      <td>343</td>\n",
       "      <td>NaN</td>\n",
       "      <td>NaN</td>\n",
       "    </tr>\n",
       "    <tr>\n",
       "      <th>16</th>\n",
       "      <td>Start of game</td>\n",
       "      <td>0</td>\n",
       "      <td>2</td>\n",
       "      <td>0</td>\n",
       "      <td>341</td>\n",
       "      <td>NaN</td>\n",
       "      <td>0.000000</td>\n",
       "    </tr>\n",
       "    <tr>\n",
       "      <th>17</th>\n",
       "      <td>End of game</td>\n",
       "      <td>0</td>\n",
       "      <td>2</td>\n",
       "      <td>0</td>\n",
       "      <td>341</td>\n",
       "      <td>NaN</td>\n",
       "      <td>0.000000</td>\n",
       "    </tr>\n",
       "    <tr>\n",
       "      <th>18</th>\n",
       "      <td>Start of replay</td>\n",
       "      <td>0</td>\n",
       "      <td>44</td>\n",
       "      <td>0</td>\n",
       "      <td>299</td>\n",
       "      <td>NaN</td>\n",
       "      <td>0.000000</td>\n",
       "    </tr>\n",
       "    <tr>\n",
       "      <th>19</th>\n",
       "      <td>End of replay</td>\n",
       "      <td>0</td>\n",
       "      <td>43</td>\n",
       "      <td>0</td>\n",
       "      <td>300</td>\n",
       "      <td>NaN</td>\n",
       "      <td>0.000000</td>\n",
       "    </tr>\n",
       "    <tr>\n",
       "      <th>20</th>\n",
       "      <td>Yellow card -&gt; red card</td>\n",
       "      <td>0</td>\n",
       "      <td>0</td>\n",
       "      <td>0</td>\n",
       "      <td>343</td>\n",
       "      <td>NaN</td>\n",
       "      <td>NaN</td>\n",
       "    </tr>\n",
       "    <tr>\n",
       "      <th>21</th>\n",
       "      <td>Other</td>\n",
       "      <td>0</td>\n",
       "      <td>1</td>\n",
       "      <td>0</td>\n",
       "      <td>342</td>\n",
       "      <td>NaN</td>\n",
       "      <td>0.000000</td>\n",
       "    </tr>\n",
       "  </tbody>\n",
       "</table>\n",
       "</div>"
      ],
      "text/plain": [
       "                 label name  TP  FN   FP   TN  Precision    Recall\n",
       "0          Ball out of play  45  32   43  223   0.592105  0.584416\n",
       "1                  Throw-in   9  33    2  299   0.818182  0.214286\n",
       "2                      Foul   0  22    1  320   0.000000  0.000000\n",
       "3        Indirect free-kick   0  20    0  323        NaN  0.000000\n",
       "4                 Clearance   5  10   13  315   0.192308  0.333333\n",
       "5           Shots on target   0   1    4  338   0.000000  0.000000\n",
       "6          Shots off target   0   0    0  343   0.000000       NaN\n",
       "7                    Corner  10   2   11  320   0.416667  0.833333\n",
       "8              Substitution   3   6   20  314   0.052632  0.333333\n",
       "9                  Kick-off   3   1  154  185   0.016393  0.750000\n",
       "10              Yellow card   1   2    1  339   1.000000  0.333333\n",
       "11                  Offside   0   6    0  337        NaN  0.000000\n",
       "12         Direct free-kick   0   2    0  341   0.000000  0.000000\n",
       "13                     Goal   7  31   11  294   0.259259  0.184211\n",
       "14                  Penalty   0   0    0  343        NaN       NaN\n",
       "15                 Red card   0   0    0  343        NaN       NaN\n",
       "16            Start of game   0   2    0  341        NaN  0.000000\n",
       "17              End of game   0   2    0  341        NaN  0.000000\n",
       "18          Start of replay   0  44    0  299        NaN  0.000000\n",
       "19            End of replay   0  43    0  300        NaN  0.000000\n",
       "20  Yellow card -> red card   0   0    0  343        NaN       NaN\n",
       "21                    Other   0   1    0  342        NaN  0.000000"
      ]
     },
     "execution_count": 24,
     "metadata": {},
     "output_type": "execute_result"
    }
   ],
   "source": [
    "lable_score"
   ]
  }
 ],
 "metadata": {
  "kernelspec": {
   "display_name": "Python 3 (ipykernel)",
   "language": "python",
   "name": "python3"
  },
  "language_info": {
   "codemirror_mode": {
    "name": "ipython",
    "version": 3
   },
   "file_extension": ".py",
   "mimetype": "text/x-python",
   "name": "python",
   "nbconvert_exporter": "python",
   "pygments_lexer": "ipython3",
   "version": "3.9.12"
  },
  "vscode": {
   "interpreter": {
    "hash": "82ed002fa2d4956f5c6aec99bcefe0f73a9f79882f3c9e2319b14958a5896ac5"
   }
  }
 },
 "nbformat": 4,
 "nbformat_minor": 2
}
